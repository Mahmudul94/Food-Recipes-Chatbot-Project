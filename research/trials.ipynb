{
 "cells": [
  {
   "cell_type": "code",
   "execution_count": null,
   "id": "9b9aa0a9",
   "metadata": {},
   "outputs": [],
   "source": [
    "import os\n",
    "os.chdir(\"../\")"
   ]
  },
  {
   "cell_type": "code",
   "execution_count": null,
   "id": "cb5246e3",
   "metadata": {},
   "outputs": [],
   "source": [
    "%pwd"
   ]
  },
  {
   "cell_type": "code",
   "execution_count": null,
   "id": "28f2625e",
   "metadata": {},
   "outputs": [],
   "source": [
    "from langchain.document_loaders import PyPDFLoader, DirectoryLoader\n",
    "from langchain.text_splitter import RecursiveCharacterTextSplitter"
   ]
  },
  {
   "cell_type": "code",
   "execution_count": null,
   "id": "7ddd045e",
   "metadata": {},
   "outputs": [],
   "source": [
    "def load_pdf_file(data):\n",
    "    loader = DirectoryLoader(data,\n",
    "                             glob=\"*.pdf\",\n",
    "                             loader_cls=PyPDFLoader)\n",
    "    documents = loader.load()\n",
    "    return documents"
   ]
  },
  {
   "cell_type": "code",
   "execution_count": null,
   "id": "ad4a3ead",
   "metadata": {},
   "outputs": [],
   "source": [
    "from typing import List\n",
    "from langchain.schema import Document\n",
    "def extracted_require_data(docs: List[Document]) -> List[Document]:\n",
    "    minimal_docs: List[Document]=[]\n",
    "    for doc in docs:\n",
    "        src = doc.metadata.get(\"source\")\n",
    "        minimal_docs.append(\n",
    "            Document(\n",
    "                page_content = doc.page_content,\n",
    "                metadata ={\"source\": src}\n",
    "            )\n",
    "        )\n",
    "    return minimal_docs"
   ]
  },
  {
   "cell_type": "code",
   "execution_count": null,
   "id": "ad0e7c03",
   "metadata": {},
   "outputs": [],
   "source": [
    "#split the Data into Text chunk\n",
    "def text_split(minimal_docs):\n",
    "    text_splitter = RecursiveCharacterTextSplitter(chunk_size = 500, chunk_overlap = 20)\n",
    "    text_chunks = text_splitter.split_documents(minimal_docs)\n",
    "    return text_chunks"
   ]
  },
  {
   "cell_type": "code",
   "execution_count": 62,
   "id": "2558c395",
   "metadata": {},
   "outputs": [],
   "source": [
    "#Embedding The text\n",
    "from langchain.embeddings import HuggingFaceBgeEmbeddings\n",
    "def Hugging_face_embedding():\n",
    "    embedding = HuggingFaceBgeEmbeddings(model_name='sentence-transformers/all-MiniLM-L6-v2')\n",
    "    return embedding\n",
    "embeddings = Hugging_face_embedding()"
   ]
  },
  {
   "cell_type": "code",
   "execution_count": 63,
   "id": "7725dab3",
   "metadata": {},
   "outputs": [],
   "source": [
    "extracted_data = load_pdf_file(data='data/')"
   ]
  },
  {
   "cell_type": "code",
   "execution_count": 65,
   "id": "381d574a",
   "metadata": {},
   "outputs": [
    {
     "data": {
      "text/plain": [
       "[Document(metadata={'source': 'data\\\\cookbook.pdf'}, page_content='FOOD HERO\\n FOOD HERO\\nMy Recipes\\nBe a \\nFood Hero \\nCook together. Eat together. Talk together.'),\n",
       " Document(metadata={'source': 'data\\\\cookbook.pdf'}, page_content='Table of Contents\\nAll About the Recipes\\nThe recipes used in this book are some \\nof Food Hero’s most popular and require \\na limited set of common ingredients and \\nbasic cooking tools. Each recipe provides \\nideas to make it your own.\\nRefrigerate or freeze leftovers within  \\n1 to 2 hours.\\nNutrition Facts Labels provided are \\nestimates based on federal food data and \\ndo not include any “optional” foods listed in \\nthe ingredients lists. Your recipe may vary.\\nVisit www.foodhero.org to:'),\n",
       " Document(metadata={'source': 'data\\\\cookbook.pdf'}, page_content='• view or share recipes in this book, see \\nrecipe user comments and find more \\nrecipes.\\n• sign-up to receive the award-winning \\nFood Hero Monthly by email—each month \\na different food ingredient is featured.\\n• connect with Food Hero on social media.\\nWe would love to hear from you!\\nEmail us at food.hero.@oregonstate.edu.\\nDownload this book  with extra content \\nat: https:/ /foodhero.org/cookbook.\\nFruit Storage and Cooking Tools .................... 3–4'),\n",
       " Document(metadata={'source': 'data\\\\cookbook.pdf'}, page_content='Apple Spice Oatmeal ........................................... 5\\nWhole Grains Storage Guide\\nAny Berry Sauce  ................................................. 6\\nFavorite Pancakes  ............................................... 7\\nTips for Making Pancakes Ahead of TIme\\nSmoothies  ......................................................... 8\\nButtermilk Scones  .............................................. 9\\nMake Buttermilk at Home\\nWhole Wheat Blueberry Muffins ........................... 10'),\n",
       " Document(metadata={'source': 'data\\\\cookbook.pdf'}, page_content='Tip for Pouring Batter\\nFruity French Toast Casserole  .............................. 11\\nBanana Oatmeal Cookies / Yogurt Fruit Dip ............ 12\\nKeep Yogurt Fresh\\nBlueberry Bling  ................................................. 13\\nBreakfast Banana Split ........................................ 14\\nFruit Pizza\\nProtein Storage and Snack Ideas  ................ 15–16\\nWhite Chicken Chili  ........................................... 17\\nBroth or Boullion'),\n",
       " Document(metadata={'source': 'data\\\\cookbook.pdf'}, page_content='Broth or Boullion\\nVegetable and Beef Skillet Meal ........................... 18\\nSouthwestern Stuffed Potatoes  ............................ 19\\nCooking Dry Beans\\nCowboy Salad  ................................................... 20\\nTips for Draining Canned Beans\\nChicken Enchilada Soup  ...................................... 21\\nBaked Tortilla Strips\\nQuick Tomato Pasta Sauce  .................................. 22\\n Baked Spaghetti Squash'),\n",
       " Document(metadata={'source': 'data\\\\cookbook.pdf'}, page_content='Quick Lasagna ................................................... 23\\nTips for Draining Beef Fat\\nEasy Cheesy Enchiladas ....................................... 24\\nChicken, Broccoli & Cheese Skillet ........................ 25\\nSkillet Mac and Cheese ....................................... 26\\nTomato Pasta Salad  ............................................ 27\\nCook Corn on the Cob\\nSkillet-Braised Chicken / Baked Tofu  ..................... 28'),\n",
       " Document(metadata={'source': 'data\\\\cookbook.pdf'}, page_content='Baked Cauliflower Tots  ....................................... 29\\nRoasted Vegetables  ........................................... 30\\nStovetop Rice\\nVegetable Storage and Flavored Water ....... 31–32\\nKitchen Measuring Guide  .................................... 33'),\n",
       " Document(metadata={'source': 'data\\\\cookbook.pdf'}, page_content='Freezing Tips: For longer storage, freeze washed, whole or cut fruit on a \\nbaking sheet. When firm, transfer to a freezer container. Label and date. Use \\nwithin 1 year for best quality. \\nBananas: Store at room temperature. Once ripe, \\nbananas can be refrigerated for up to 2 weeks; the skin \\nmay turn black but the fruit inside will be fine.\\nApples: Store up to 6 weeks in the refrigerator in a crisper \\ndrawer or open plastic bag. \\nBerries: Refrigerate in a covered shallow container with'),\n",
       " Document(metadata={'source': 'data\\\\cookbook.pdf'}, page_content='holes for air movement. Use strawberries and raspberries \\nwithin 3 days, blackberries within 5 days, and blueberries \\nwithin 10 days.\\n Peaches: Store at room temperature until ripe. Check \\ndaily until soft, then eat or refrigerate in a plastic bag with \\nholes and use within a few days.\\n Pears: Store at room temperature until ripe. Press gently \\nnear the stem. If the neck feels soft, the pear is ready to \\neat. Once ripe, use within 5 days or refrigerate for longer \\nstorage.'),\n",
       " Document(metadata={'source': 'data\\\\cookbook.pdf'}, page_content='storage.\\nKiwi: Store unripe kiwi in a plastic bag in the refrigerator \\nfor up to 6 weeks. T o ripen, put firm kiwi in a paper bag on \\nthe counter away from heat and light. Ripe kiwi will keep for \\nseveral days at room temperature and up to 4 weeks in the \\nrefrigerator.\\nFruit: Store Well, Waste Less3'),\n",
       " Document(metadata={'source': 'data\\\\cookbook.pdf'}, page_content='FOOD HERO\\n FOOD HERO\\n Cooking Tools  \\nAll You Need for Food Hero Recipes\\nThis material was funded by USDA’s Supplemental Nutrition Assistance Program (SNAP). SNAP provides nutrition assistance to people with low income.  \\nSNAP can help you buy nutritious foods for a better diet. To find out more, contact Oregon SafeNet at 211. USDA is an e£ual opportunity provider and employer.'),\n",
       " Document(metadata={'source': 'data\\\\cookbook.pdf'}, page_content='©2017 Oregon State University Extension Service offers educational programs, activities, and materials without discrimination based on age, color, disability, gender identity or expression, \\ngenetic information, marital status, national origin, race, religion, sex, sexual orientation, or veteran’s status. Oregon State University  Extension Service is an E£ual Opportunity Employer.\\nCan Opener\\nCutting Board\\nSpatula (pancake turner)\\nSaucepans with Lids,\\nLarge and Medium\\nMuffin Tin'),\n",
       " Document(metadata={'source': 'data\\\\cookbook.pdf'}, page_content='Muffin Tin\\nSkillets, Large and Medium  \\n(stovetop or electric, lid helpful)\\nMixing Spoon\\nStrainer \\n(colander)\\nRubber/Silicone \\nScraper\\nGrater\\nLadle\\nPotholders\\nDry Measuring Cups\\nSilverware\\nLiquid Measuring Cup\\nMeasuring \\nSpoons\\nKnives (sharp)\\nPie Pan\\nBlenderCasserole \\nor Baking Dish\\nVegetable Peeler\\nBread Pan\\nBaking Sheet\\nMixing Bowls'),\n",
       " Document(metadata={'source': 'data\\\\cookbook.pdf'}, page_content='Ingredients\\n2 cups nonfat or 1% milk or water\\n1 cup quick-cooking or old fashioned oats\\n⅛ teaspoon salt\\n1 apple, cored and cut into chunks\\n⅛ teaspoon cinnamon\\n1 Tablespoon brown sugar\\n⅛ teaspoon nutmeg, if desired\\nDirections\\n1. Bring the milk or water to a boil in a saucepan.\\n2. Add the oats, salt and apple. Cook over medium heat for \\n1 minute if using quick-cooking oats or 7 to 10 minutes \\nif using old fashioned oats. Stir a couple of times while \\ncooking.\\n3. Remove from heat.'),\n",
       " Document(metadata={'source': 'data\\\\cookbook.pdf'}, page_content='Stir in cinnamon, \\nbrown sugar and \\nnutmeg, if desired.\\nVariations\\n ✪Add bite-sized dried \\nfruit pieces like raisins, \\napricots or cranberries \\nin step 2, or sprinkle on \\ntop when serving.\\n ✪Sprinkle chopped nuts \\non top when serving.\\nCalories \\nServing size\\n2 servings per container\\nTotal Fat  6g  \\nSaturated Fat  2g\\nTrans Fat  0g \\nCholesterol  15mg  \\nSodium  280mg  \\nTotal Carbohydrate  61g  \\nDietary Fiber  7g \\nTotal Sugars  29g \\nIncludes 7g Added Sugars \\nProtein  16g  \\n8%\\n10%\\n5%\\n12%\\n22%\\n25%\\n14%'),\n",
       " Document(metadata={'source': 'data\\\\cookbook.pdf'}, page_content='5%\\n12%\\n22%\\n25%\\n14%\\nVitamin D 3mcg  15% Calcium 333mg 25%\\nIron 2mg  10%\\nVitamin A 2mcg    0%\\nPotassium 107mg  2%\\nVitamin C 5mg    6%\\nThe % Daily Value (DV) tells you how much a nutrient in\\na serving of food contributes to a daily diet. 2,000 calories\\na day is used for general nutrition advice.\\n* \\n1 cup (392g)\\nAmount per serving \\n360\\n% Daily Value* \\nNutrition Facts\\nApple Spice Oatmeal\\nPrep time: 5 minutes Cooking time: 10 minutes Makes: 2 cups\\nWhole Grains Storage \\nGuide'),\n",
       " Document(metadata={'source': 'data\\\\cookbook.pdf'}, page_content='Guide\\nHeat, air and light can make \\nwhole grains taste and smell \\nspoiled. Store whole grains in \\na cool, dry and dark location \\nor choose a container that \\nkeeps light out. Store in airtight \\ncontainers.  \\n• Intact whole grains will \\nkeep for up to 6 months in \\nthe cupboard, longer in the \\nrefrigerator, and up to a year \\nin the freezer.\\n• Ground whole grains will \\nkeep for 1 to 3 months in the \\ncupboard or 2 to 6 months in \\nthe refrigerator or freezer.\\n5'),\n",
       " Document(metadata={'source': 'data\\\\cookbook.pdf'}, page_content='Calories \\nServing size\\n4 servings per container\\nTotal Fat  9g  \\nSaturated Fat  1.5g\\nTrans Fat  0g \\nCholesterol  50mg  \\nSodium  560mg  \\nTotal Carbohydrate  37g  \\nDietary Fiber  1g \\nTotal Sugars  7g \\nIncludes 3g Added Sugars \\nProtein  8g  \\n12%\\n8%\\n17%\\n24%\\n13%\\n4%\\n6%\\nVitamin D 1mcg 6% Calcium 301mg 25%\\nIron 2mg  10%\\nVitamin A 60mcg 7%\\nPotassium 162mg 4%\\nVitamin C 0mg    0%\\n* \\n2 (4-in) pancakes (134g)\\nAmount per serving \\n270\\n% Daily Value* \\nNutrition Facts'),\n",
       " Document(metadata={'source': 'data\\\\cookbook.pdf'}, page_content='Nutrition Facts\\nThe % Daily Value (DV) tells you how much a nutrient in\\na serving of food contributes to a daily diet. 2,000 calories\\na day is used for general nutrition advice.\\nIngredients\\n¼ cup cold water\\n1 Tablespoon cornstarch\\n⅓ cup sugar\\n4 cups berries, fresh or frozen (blackberries, raspberries, \\nblueberries, sliced strawberries or a mixture)\\nDirections\\n1. In a medium saucepan, mix together the water, \\ncornstarch, sugar and 2 cups of the berries. Mash the \\nberries, if desired.'),\n",
       " Document(metadata={'source': 'data\\\\cookbook.pdf'}, page_content='2. Heat over medium heat, stirring frequently, until the \\nsauce starts to thicken.\\n3. Remove from heat and stir  \\nin the remaining berries.\\n4. Serve over pancakes,  \\nwaffles or plain yogurt— \\nany time you want a  \\nlittle sweetness.\\nNote\\n ✪Store sauce in the  \\nrefrigerator for up to  \\na week.\\n ✪To freeze the sauce,  \\nreplace the cornstarch  \\nin the recipe with Clearjel  \\nor Clear Jel, a special type \\n of cornstarch.\\nTastes great on these  \\nFood Hero recipes:\\n ✪Apple Spiced Baked Oatmeal'),\n",
       " Document(metadata={'source': 'data\\\\cookbook.pdf'}, page_content='✪Applesauce French Toast\\n ✪Favorite Pancakes\\n ✪Gingerbread Pancakes\\n ✪Oven French Toast (pictured)\\nCalories \\nServing size\\n9 servings per container\\nTotal Fat  0g  \\nSaturated Fat  0g\\nTrans Fat  0g \\nCholesterol  0mg  \\nSodium  0mg  \\nTotal Carbohydrate  16g  \\nDietary Fiber  2g \\nTotal Sugars  12g \\nIncludes 7g Added Sugars \\nProtein  0g  \\n0%\\n0%\\n0%\\n0%\\n6%\\n7%\\n14%\\nVitamin D 0mcg  0% Calcium 9mg 0%\\nIron 0mg  0%\\nVitamin A 0mcg  0%\\nPotassium 42mg  0%\\nVitamin C 8mg  9%'),\n",
       " Document(metadata={'source': 'data\\\\cookbook.pdf'}, page_content='Vitamin C 8mg  9%\\nThe % Daily Value (DV) tells you how much a nutrient in\\na serving of food contributes to a daily diet. 2,000 calories\\na day is used for general nutrition advice.\\n* \\n1/4 cup (77g)\\nAmount per serving \\n60\\n% Daily Value* \\nNutrition Facts\\nAny Berry Sauce\\nPrep time: 5 minutes Cooking time: 15 minutes Makes: 2¼ cups\\nFavorite PancakesAny Berry Sauce\\n6'),\n",
       " Document(metadata={'source': 'data\\\\cookbook.pdf'}, page_content='Tips for Making Pancakes Ahead of Time\\n• Cook and refrigerate pancakes. Enjoy them reheated for up to 2 days.\\n• Combine the wet ingredients ahead of time. Store them refrigerated up to 2 days. \\n• Mix the dry ingredients ahead of time and store in a sealed container.\\nIngredients\\n1¼ cups all-purpose flour\\n1 Tablespoon baking powder\\n1 Tablespoon sugar\\n¼ teaspoon salt\\n¼ teaspoon spice such as cinnamon, nutmeg or allspice,  \\nif desired\\n1 egg\\n1 cup nonfat or 1% milk (add 2 more Tablespoons for'),\n",
       " Document(metadata={'source': 'data\\\\cookbook.pdf'}, page_content='thinner pancakes)\\n2 Tablespoons vegetable oil\\n1 teaspoon vanilla, if desired\\nDirections\\n1. Mix together the flour, baking powder, sugar and salt in  \\na medium bowl. Add the spice, if desired.\\n2. In a separate bowl, beat the egg until well blended. Add \\nthe milk and oil. Add the vanilla, if desired.\\n3. Add the dry ingredients to the liquids and stir just until \\nthe lumps disappear.\\n4. Lightly grease and preheat a large skillet over medium-'),\n",
       " Document(metadata={'source': 'data\\\\cookbook.pdf'}, page_content='high heat. The skillet is hot enough when a few drops of \\nwater sprinkled on it skitter and bounce around.\\n5. Pour ¼ cup of batter per pancake onto the hot skillet. \\nCook until bubbles come to the surface of the pancake \\nand the edges start to look dry. Turn over. Cook until \\ncooked through and the bottom is golden brown. \\nVariations\\n ✪This batter also works great in \\nwaffle makers!\\n ✪No eggs? Replace them with 2 \\nTablespoons water.\\n ✪Replace the milk with buttermilk.'),\n",
       " Document(metadata={'source': 'data\\\\cookbook.pdf'}, page_content='Also reduce the baking powder to \\n2 teaspoons and add ½ teaspoon \\nbaking soda.\\n ✪Add ½ cup of fruits or vegetables \\nto the liquid ingredients. Try \\ngrated or minced fresh apples, \\nberries, mashed bananas, canned \\npumpkin, grated carrots or \\nzucchini.\\n ✪Replace up to half of the flour \\nwith whole-wheat flour.\\n ✪For oatcakes, replace ½ cup of \\nthe flour with oats. Soak the oats \\nin the milk for 5 minutes before \\nmixing them into the batter. \\n ✪For corncakes, omit the sugar,'),\n",
       " Document(metadata={'source': 'data\\\\cookbook.pdf'}, page_content='replace up to half the flour with \\ncornmeal and add ½ to 1 cup of \\ncooked corn.\\nFavorite Pancakes\\nPrep time: 10 minutes Cooking time: 5 minutes Makes: 8 pancakes (4-inch) \\n7'),\n",
       " Document(metadata={'source': 'data\\\\cookbook.pdf'}, page_content='Ingredients\\n1 cup orange juice\\n½ cup pineapple juice\\n½ cup low-fat yogurt (or a \\n5.3-ounce container)\\n1 banana, peeled and sliced\\n2 cups fresh spinach leaves\\n2 cups ice, if desired\\nDirections\\n1. Combine all ingredients  \\nin a blender.\\n2. Blend until smooth and \\nserve.\\nVariations\\n ✪For a thicker smoothie, use \\nfrozen fruit or vegetables or \\nice.\\n ✪Use any type of juice, even \\njuice from canned pineapple.\\n ✪Try plain or vanilla yogurt. \\nPrep time: 10 minutes  Makes: 4 cups'),\n",
       " Document(metadata={'source': 'data\\\\cookbook.pdf'}, page_content='Prep time: 5 minutes  Makes: 1 cup\\nPopeye Power Smoothie\\nPumpkin Smoothie in a Cup\\nIngredients\\n⅔ cup low-fat vanilla yogurt  \\n(or a 5.3-ounce container)\\n¼ cup canned pumpkin\\n2 teaspoons brown sugar\\n¼ teaspoon cinnamon\\n⅛ teaspoon nutmeg, if desired\\nDirections\\n1. Combine all ingredients in  \\na bowl or blender.\\n2. Mix until smooth and serve.\\nVariation\\n ✪Tastes great as a dip with cut \\nfruit or graham crackers.\\nCalories \\nServing size\\n4 servings per container\\nTotal Fat  0.5g  \\nSaturated Fat  0g'),\n",
       " Document(metadata={'source': 'data\\\\cookbook.pdf'}, page_content='Saturated Fat  0g\\nTrans Fat  0g \\nCholesterol  0mg  \\nSodium  35mg  \\nTotal Carbohydrate  20g  \\nDietary Fiber  1g \\nTotal Sugars  15g \\nIncludes 0g Added Sugars \\nProtein  3g  \\n1%\\n0%\\n0%\\n2%\\n7%\\n4%\\n0%\\nVitamin D 0mcg  0% Calcium 77mg 6%\\nIron 1mg  6%\\nVitamin A 81mcg  9%\\nPotassium 355mg  8%\\nVitamin C 42mg  46%\\n* \\n1 cup (166g)\\nAmount per serving \\n90\\n% Daily Value* \\nNutrition Facts\\nThe % Daily Value (DV) tells you how much a nutrient in\\na serving of food contributes to a daily diet. 2,000 calories'),\n",
       " Document(metadata={'source': 'data\\\\cookbook.pdf'}, page_content='a day is used for general nutrition advice.\\nCalories \\nServing size\\n1 serving per container\\nTotal Fat  2.5g  \\nSaturated Fat  1.5g\\nTrans Fat  0g \\nCholesterol  10mg \\nSodium  120mg  \\nTotal Carbohydrate  38g  \\nDietary Fiber  2g \\nTotal Sugars  34g \\nIncludes 20g Added Sugars \\nProtein  9g  \\n3%\\n8%\\n3%\\n5%\\n14%\\n7%\\n40%\\nVitamin D 0mcg  0% Calcium 321mg 25%\\nIron 1mg  6%\\nVitamin A 497mcg 55%\\nPotassium 514mg  10%\\nVitamin C 4mg  4%\\n* \\n1 cup (241g)\\nAmount per serving \\n200\\n% Daily Value* \\nNutrition Facts'),\n",
       " Document(metadata={'source': 'data\\\\cookbook.pdf'}, page_content='Nutrition Facts\\nThe % Daily Value (DV) tells you how much a nutrient in\\na serving of food contributes to a daily diet. 2,000 calories\\na day is used for general nutrition advice.\\nPopeye Power SmoothiePumpkin Smoothie\\nThe recipe for the Un-beet-able Berry \\nSmoothie shown in the photo  \\nis at www.foodhero.org.\\n8'),\n",
       " Document(metadata={'source': 'data\\\\cookbook.pdf'}, page_content='Calories \\nServing size\\n9 servings per container\\nTotal Fat  6g  \\nSaturated Fat  3.5g\\nTrans Fat  0g \\nCholesterol  15mg  \\nSodium  270mg  \\nTotal Carbohydrate  42g  \\nDietary Fiber  3g \\nTotal Sugars  20g \\nIncludes 5g Added Sugars \\nProtein  5g  \\n8%\\n18%\\n5%\\n12%\\n15%\\n11%\\n10%\\nVitamin D 0mcg 0% Calcium 58mg 4%\\nIron 2mg  10%\\nVitamin A 46mcg 5%\\nPotassium 180mg 4%\\nVitamin C 0mg    0%\\nThe % Daily Value (DV) tells you how much a nutrient in\\na serving of food contributes to a daily diet. 2,000 calories'),\n",
       " Document(metadata={'source': 'data\\\\cookbook.pdf'}, page_content='a day is used for general nutrition advice.\\n* \\n1 scone (79g)\\nAmount per serving \\n230\\n% Daily Value* \\nNutrition Facts\\nIngredients\\n1 cup whole-wheat flour or use all-purpose flour\\n¾ cup all-purpose flour\\n⅓ cup sugar\\n1 teaspoon baking powder\\n½ teaspoon baking soda\\n¼ teaspoon salt\\n1 cup dried fruit like raisins, cranberries or bits of apricot  \\nor mango\\n¼ cup margarine or butter, melted\\n⅔ cup buttermilk\\nDirections\\n1. Preheat oven to 400 degrees F.'),\n",
       " Document(metadata={'source': 'data\\\\cookbook.pdf'}, page_content='2. Combine the flours, sugar, baking powder, baking soda \\nand salt in a medium bowl. Mix well.\\n3. Add the dried fruit and mix lightly.\\n4. In a small bowl, combine the melted margarine or butter \\nand buttermilk.\\n5. Add the liquids to the dry ingredients and mix gently.\\n6. On a greased baking sheet, spoon the dough into 9 equal \\nmounds.\\n7. Bake until golden brown, 18 to 20 minutes.\\n8. Serve hot or at room temperature. \\nVariations\\n ✪Sprinkle with cinnamon before \\nbaking.'),\n",
       " Document(metadata={'source': 'data\\\\cookbook.pdf'}, page_content='baking.\\n ✪Add 1½ teaspoons of grated \\nlemon or orange zest (grate the \\nouter colored part of the peel). \\nButtermilk Scones\\nPrep time: 20 minutes Cooking time: 20 minutes Makes: 9 scones\\nMake Buttermilk at Home\\nPut 1 Tablespoon of lemon juice or vinegar in a liquid \\nmeasuring cup. Fill to the 1-cup line with milk. Stir and  \\nlet sit to thicken slightly. \\n9'),\n",
       " Document(metadata={'source': 'data\\\\cookbook.pdf'}, page_content='Calories \\nServing size\\n12 servings per container\\nTotal Fat  7g  \\nSaturated Fat  1g\\nTrans Fat  0g \\nCholesterol  15mg \\nSodium  190mg  \\nTotal Carbohydrate  24g  \\nDietary Fiber  3g \\nTotal Sugars  12g \\nIncludes 8g Added Sugars \\nProtein  3g  \\n9%\\n5%\\n5%\\n8%\\n9%\\n11%\\n16%\\nVitamin D 0mcg  0% Calcium 58mg 4%\\nIron 1mg  6%\\nVitamin A 7mcg 1%\\nPotassium 68mg  2%\\nVitamin C 7mg  8%\\n* \\n1 muffin (76g)\\nAmount per serving \\n160\\n% Daily Value* \\nNutrition Facts\\nThe % Daily Value (DV) tells you how much a nutrient in'),\n",
       " Document(metadata={'source': 'data\\\\cookbook.pdf'}, page_content='a serving of food contributes to a daily diet. 2,000 calories\\na day is used for general nutrition advice.\\nWhole Wheat Blueberry Muffins\\nPrep time: 15 minutes Cooking time: 20 minutes Makes: 12 muffins\\nTip for Pouring Batter\\nA gravy ladle or large liquid measuring \\ncup are great tools for pouring muffin \\nbatter into tins and pancake batter \\nonto the skillet.\\nIngredients\\n1½ cups whole-wheat flour\\n½ cup sugar\\n½ teaspoon salt\\n2 teaspoons baking powder\\n1 egg, slightly beaten\\n⅓ cup vegetable oil'),\n",
       " Document(metadata={'source': 'data\\\\cookbook.pdf'}, page_content='⅓ cup vegetable oil\\n⅓ cup nonfat or 1% milk\\n½ cup applesauce\\n1 to 2 cups blueberries (fresh or frozen)\\nDirections\\n1. Preheat oven to 400 degrees F. Lightly grease the bottom \\nof 12 muffin cups.\\n2. Mix the flour, sugar, salt and baking powder in a large \\nbowl.\\n3. In a separate bowl, blend the beaten egg, oil, milk and \\napplesauce until smooth. \\n4. Stir the liquids into the dry ingredients until just \\nmoistened. Lightly stir in the blueberries.\\n5. Fill each muffin cup about ¾ full.'),\n",
       " Document(metadata={'source': 'data\\\\cookbook.pdf'}, page_content='6. Bake about 20 minutes, or until the muffin tops are \\ngolden brown. A toothpick inserted into the center of the \\nmuffin should come out moist but without batter.\\nVariations\\n ✪To bake as bread, use an 8- or \\n9-inch bread pan and bake at 350 \\ndegrees F for 45 to 50 minutes.\\n ✪No whole-wheat flour? Replace \\nwith all-purpose flour.\\n ✪Replace the blueberries with \\nanother fruit. Try diced apples \\nwith 1 teaspoon cinnamon, fresh \\nor frozen cranberries with 1½ \\nteaspoon orange zest, or diced'),\n",
       " Document(metadata={'source': 'data\\\\cookbook.pdf'}, page_content='bananas.\\n10'),\n",
       " Document(metadata={'source': 'data\\\\cookbook.pdf'}, page_content='Calories \\nServing size\\n8 servings per container\\nTotal Fat  9g  \\nSaturated Fat  2g\\nTrans Fat  0g \\nCholesterol  95mg  \\nSodium  270mg  \\nTotal Carbohydrate  44g  \\nDietary Fiber  1g \\nTotal Sugars  22g \\nIncludes 13g Added Sugars \\nProtein  8g  \\n12%\\n10%\\n32%\\n12%\\n16%\\n4%\\n26%\\nVitamin D 1mcg  6% Calcium 70mg 6%\\nIron 2mg  10%\\nVitamin A 130mcg  14%\\nPotassium 173mg  4%\\nVitamin C 1mg  2%\\n* \\n1 cup (168g)\\nAmount per serving \\n290\\n% Daily Value* \\nNutrition Facts'),\n",
       " Document(metadata={'source': 'data\\\\cookbook.pdf'}, page_content='Nutrition Facts\\nThe % Daily Value (DV) tells you how much a nutrient in\\na serving of food contributes to a daily diet. 2,000 calories\\na day is used for general nutrition advice.\\nIngredients\\n8 cups bread cubes; try whole-grain bread\\n2 cups fruit, sliced or chopped—fresh, frozen or canned\\n4 eggs, slightly beaten\\n1 cup nonfat or 1% milk\\n2 teaspoons vanilla\\n¼ cup sugar\\nTopping\\n¼ cup margarine or butter, softened\\n¼ cup sugar\\n½ cup flour, all purpose or whole wheat\\nDirections'),\n",
       " Document(metadata={'source': 'data\\\\cookbook.pdf'}, page_content='Directions\\n1. Grease an 8 x 8-inch baking dish or 2-quart casserole \\ndish. Add bread cubes and fruit.\\n2. In a medium bowl, blend the eggs, milk, vanilla and sugar. \\nPour over the bread cubes and fruit. Stir gently to wet all \\nof the bread with the egg mixture. \\n3. Cover and refrigerate until all of the liquid is absorbed \\n(30 minutes), or overnight.\\n4. Just before baking, remove the casserole from the \\nrefrigerator. Preheat oven to 350 degrees F.'),\n",
       " Document(metadata={'source': 'data\\\\cookbook.pdf'}, page_content='5. Make the topping: In a small bowl, combine the \\nmargarine or butter, sugar and flour with a fork until \\ncrumbly.\\n6. Uncover the casserole and sprinkle the topping over the \\nfruit. Bake until completely set and starting to brown \\n(160 degrees F in the center), about 35 to 40 minutes. \\nA longer baking time is needed when the dish is chilled \\novernight. Serve warm.\\nNote\\n ✪This is a great recipe for using up \\nextra bread.\\nVariations\\n ✪For the fruit, try peaches, pears, \\nberries, or diced apples.'),\n",
       " Document(metadata={'source': 'data\\\\cookbook.pdf'}, page_content='✪Lightly sprinkle with cinnamon \\nor other spices such as nutmeg, \\nground cloves, allspice or \\ncardamom at the end of step 2.\\n ✪Try topping with a spoonful of \\nyogurt.\\nFruity French Toast Casserole\\nPrep time: 10 minutes Cooking time: 40 to 60 minutes Makes: 8 cups\\n11'),\n",
       " Document(metadata={'source': 'data\\\\cookbook.pdf'}, page_content='Ingredients\\n1 cup nonfat plain yogurt\\n1 teaspoon vanilla\\n½ teaspoon cinnamon\\n1 teaspoon brown sugar\\nDirections\\n1. In a bowl, combine the yogurt, vanilla, \\ncinnamon and brown sugar. Mix well.\\n2. Serve with sliced apples, pears or other fruit.\\nBanana Oatmeal Cookies\\nPrep time: 10 minutes Cooking time: 15 minutes Makes: 14 cookies\\nPrep time: 15 minutes  Makes: 1 cup\\nYogurt Fruit Dip\\nKeep Y ogurt \\nFresh\\nKeep yogurt in the \\nrefrigerator. Cover \\ntightly to keep it \\nfrom drying out,'),\n",
       " Document(metadata={'source': 'data\\\\cookbook.pdf'}, page_content='from drying out, \\nspoiling or taking on \\nthe flavors of other foods. Discard the entire \\ncontainer if any mold has appeared. Freezing \\nyogurt is safe, but the texture will not be the \\nsame after thawing.\\nIngredients\\n2 ripe bananas\\n1 cup quick-cooking or old fashioned oats\\n½ teaspoon cinnamon\\n½ teaspoon vanilla\\n½ cup raisins\\nDirections\\n1. Preheat oven to 350 degrees F.\\n2. In a medium bowl, mash the bananas with a \\nfork until mostly smooth.\\n3. Add the remaining ingredients. Mix well.'),\n",
       " Document(metadata={'source': 'data\\\\cookbook.pdf'}, page_content='4. Drop spoonfuls of dough onto a lightly \\ngreased baking sheet. Flatten each cookie \\nwith the back of the fork.\\n5. Bake 10 to 15 minutes until the edges of the \\ncookies are set. Remove from the oven and \\nlet cool before serving. Texture will be best \\nwhen freshly made.\\nVariations\\n ✪Try dried cranberries, apricots or chopped \\nnuts instead of raisins.\\n12'),\n",
       " Document(metadata={'source': 'data\\\\cookbook.pdf'}, page_content='Calories \\nServing size\\n4 servings per container\\nTotal Fat  3g  \\nSaturated Fat  0.5g\\nTrans Fat  0g \\nCholesterol  0mg  \\nSodium  25mg  \\nTotal Carbohydrate  30g  \\nDietary Fiber  4g \\nTotal Sugars  15g \\nIncludes 3g Added Sugars \\nProtein  3g  \\n4%\\n3%\\n0%\\n1%\\n11%\\n14%\\n6%\\nVitamin D 0mcg 0% Calcium 17mg 2%\\nIron 1mg  6%\\nVitamin A 3mcg 0%\\nPotassium 133mg  2%\\nVitamin C 11mg    12%\\nThe % Daily Value (DV) tells you how much a nutrient in\\na serving of food contributes to a daily diet. 2,000 calories'),\n",
       " Document(metadata={'source': 'data\\\\cookbook.pdf'}, page_content='a day is used for general nutrition advice.\\n* \\n1/2 cup (131g)\\nAmount per serving \\n150\\n% Daily Value* \\nNutrition Facts\\nIngredients\\n3 cups frozen or fresh blueberries\\n2 teaspoons margarine or butter, softened\\n1 Tablespoon all-purpose flour\\n1 Tablespoon brown sugar\\n½ teaspoon cinnamon\\n½ cup old fashioned oats\\nDirections\\n1. Preheat oven to 375 degrees F.\\n2. If using fresh blueberries, wash and drain \\nthem. Put the fresh or frozen blueberries in a \\n9-inch pie plate or an 8\" x 8\" baking dish.'),\n",
       " Document(metadata={'source': 'data\\\\cookbook.pdf'}, page_content='3. In a small bowl, use a fork to mix the \\nremaining ingredients.\\n4. Sprinkle the oat mixture over the blueberries.\\n5. Bake about 25 minutes. Enjoy while warm!\\nVariation\\n ✪For a different taste, try replacing the \\nblueberries with blackberries or diced peaches \\n(drained if canned).\\nBlueberry Bling\\nPrep time: 5 minutes Cooking time: 25 minutes Makes: 2 cups\\nCalories \\nServing size\\n7 servings per container\\nTotal Fat  1g  \\nSaturated Fat  0g\\nTrans Fat  0g \\nCholesterol  0mg  \\nSodium  0mg'),\n",
       " Document(metadata={'source': 'data\\\\cookbook.pdf'}, page_content='Sodium  0mg  \\nTotal Carbohydrate  25g  \\nDietary Fiber  2g \\nTotal Sugars  13g \\nIncludes 0g Added Sugars \\nProtein  3g  \\n1%\\n0%\\n0%\\n0%\\n9%\\n7%\\n0%\\nVitamin D 0mcg 0% Calcium 15mg 2%\\nIron 1mg  6%\\nVitamin A 1mcg 0%\\nPotassium 211mg  4%\\nVitamin C 3mg    3%\\nThe % Daily Value (DV) tells you how much a nutrient in\\na serving of food contributes to a daily diet. 2,000 calories\\na day is used for general nutrition advice.\\n* \\n2 cookies (58g)\\nAmount per serving \\n120\\n% Daily Value* \\nNutrition Facts\\nCalories'),\n",
       " Document(metadata={'source': 'data\\\\cookbook.pdf'}, page_content='Calories \\nServing size\\n8 servings per container\\nTotal Fat  0g  \\nSaturated Fat  0g\\nTrans Fat  0g \\nCholesterol  0mg  \\nSodium  20mg  \\nTotal Carbohydrate  3g  \\nDietary Fiber  0g \\nTotal Sugars  3g \\nIncludes 1g Added Sugars \\nProtein  1g  \\n0%\\n0%\\n0%\\n1%\\n1%\\n0%\\n2%\\nVitamin D 0mcg  0% Calcium 52mg 4%\\nIron 0mg  0%\\nVitamin A 4mcg  0%\\nPotassium 2mg  0%\\nVitamin C 0mg  0%\\n* \\n2 Tbsp (30g)\\nAmount per serving \\n20\\n% Daily Value* \\nNutrition Facts\\nThe % Daily Value (DV) tells you how much a nutrient in'),\n",
       " Document(metadata={'source': 'data\\\\cookbook.pdf'}, page_content='a serving of food contributes to a daily diet. 2,000 calories\\na day is used for general nutrition advice.\\nBanana Oatmeal Cookies Yogurt Fruit Dip Blueberry Bling\\n13'),\n",
       " Document(metadata={'source': 'data\\\\cookbook.pdf'}, page_content='Breakfast Banana Split\\nPrep time: 5 minutes  Makes: 2 banana splits\\nCalories \\nServing size\\n2 servings per container\\nTotal Fat  4.5g  \\nSaturated Fat  0.5g\\nTrans Fat  0g \\nCholesterol  0mg  \\nSodium  45mg  \\nTotal Carbohydrate  44g  \\nDietary Fiber  3g \\nTotal Sugars  28g \\nIncludes 3g Added Sugars \\nProtein  6g  \\n6%\\n3%\\n0%\\n2%\\n16%\\n11%\\n6%\\nVitamin D 0mcg  0% Calcium 127mg 10%\\nIron 1mg  6%\\nVitamin A 4mcg  0%\\nPotassium 477mg  10%\\nVitamin C 9mg  10%\\n* \\n1/2 banana split (177g)\\nAmount per serving \\n230'),\n",
       " Document(metadata={'source': 'data\\\\cookbook.pdf'}, page_content='230\\n% Daily Value* \\nNutrition Facts\\nThe % Daily Value (DV) tells you how much a nutrient in\\na serving of food contributes to a daily diet. 2,000 calories\\na day is used for general nutrition advice.\\nFruit Pizza\\nIngredients\\n1 English muffin (try whole grain)\\n2 Tablespoons spread (try reduced fat \\ncream cheese, peanut butter, or sunflower \\nseed butter)\\n⅓ cup bite-sized fruit (try strawberries, crushed and drained \\npineapple, raisins, chopped apples, pears or peaches)'),\n",
       " Document(metadata={'source': 'data\\\\cookbook.pdf'}, page_content='1 Tablespoon chopped nuts or seeds, if desired\\nDirections\\n1. Split open the English muffin and toast the halves until \\nlightly browned.\\n2. Divide the spread and place on both halves.\\n3. Arrange the fruit on top, and nuts or seeds, if desired. \\nEnjoy right away.\\nIngredients\\n1 small banana\\n½ cup oat, corn, or granola cereal\\n½ cup low-fat vanilla or strawberry yogurt\\n½ teaspoon honey, if desired (skip for children under the \\nage of one)\\n½ cup canned pineapple tidbits or chunks\\nDirections'),\n",
       " Document(metadata={'source': 'data\\\\cookbook.pdf'}, page_content='Directions\\n1. Peel the banana and split it lengthwise. Place the halves \\nin two separate cereal bowls.\\n2. Over each banana spoon yogurt, sprinkle cereal and \\ndrizzle honey, if desired.\\n3. Top with pineapple and serve.\\nVariations\\n ✪Try other flavors of low-fat yogurt \\nor cottage cheese.\\n ✪Try other fresh, frozen or canned \\nfruits with or in place of the \\npineapple.\\n ✪Add nuts or seeds for more \\nprotein.\\n14'),\n",
       " Document(metadata={'source': 'data\\\\cookbook.pdf'}, page_content='Beans and Lentils (legumes): Store dry legumes in an \\nairtight container in a cool, dark, dry place. Use within 1 year \\nfor best flavor and less cooking time. Canned beans keep for \\n2 or more years. Refrigerate cooked beans and lentils within \\n2 hours and use them within 5 days. For longer storage, \\nfreeze for up to 3 months. \\nChicken: Refrigerate raw chicken as soon as you get it \\nhome and cook within 2 days for best quality, or freeze for'),\n",
       " Document(metadata={'source': 'data\\\\cookbook.pdf'}, page_content='up to 1 year. Refrigerate cooked chicken within 2 hours and \\nuse within 4 days, or freeze for up to 2 months. \\nEggs: Refrigerate eggs in their original carton as soon \\nas you get them home. Place them on the refrigerator \\nshelf, not on the door. Use within 5 weeks. Egg whites and \\nblended whole eggs can be frozen for up to 1 year. Thaw in \\nthe refrigerator. Yolks alone do not freeze well.\\n Ground Beef: Refrigerate raw ground beef as soon as'),\n",
       " Document(metadata={'source': 'data\\\\cookbook.pdf'}, page_content='you get it home and use within 2 days, or freeze for longer \\nstorage and use within 4 months. Refrigerate cooked \\nground beef for up to 4 days, or freeze for longer storage \\nand use within 3 months.\\nFreezing Tips: Divide food into recipe-sized portions for quick use. Package in \\nfreezer-quality bags or containers and remove as much air as possible. Label the \\ncontainer with the date, using a marker and tape.\\nKeeping Protein Foods Fresh\\nFish: Refrigerate raw fish as soon as you get it home and'),\n",
       " Document(metadata={'source': 'data\\\\cookbook.pdf'}, page_content='cook or freeze within 1 day. Frozen fish is best used within \\n6 months. Refrigerate leftover cooked fish in an airtight \\ncontainer within 2 hours. Use within 3 days, or freeze. \\n15'),\n",
       " Document(metadata={'source': 'data\\\\cookbook.pdf'}, page_content='This material was funded by USDA’s Supplemental Nutrition Assistance Program (SNAP). SNAP provides nutrition assistance to people with low income. SNAP can help you buy \\nnutritious foods for a better diet. To find out more, contact Oregon SafeNet at 211. USDA is an e£ual opportunity provider and employer. ©2018 Oregon State University Extension Service'),\n",
       " Document(metadata={'source': 'data\\\\cookbook.pdf'}, page_content='offers educational programs, activities, and materials without discrimination based on age, color, disability, gender identity or expression, genetic information, marital status, national \\norigin, race, religion, sex, sexual orientation, or veteran’s status. Oregon State University  Extension Service is an Equal Opportunity Employer.\\nApples\\n Berries\\n FOOD HERO\\n FOOD HERO\\nSnack Ideas\\nFruit Cups\\n Pears\\nVegetables  \\nwith Salsa \\nTrail Mix\\nBananas\\nCarrots\\n Crackers\\nCereal Bars\\n Cheese\\nOranges'),\n",
       " Document(metadata={'source': 'data\\\\cookbook.pdf'}, page_content='Cheese\\nOranges\\nBell Peppers\\nTomatoes\\n Yogurt\\nMelon\\nFor tasty, healthy snack recipes that fit your budget, visit www.foodhero.org/recipes/snacks'),\n",
       " Document(metadata={'source': 'data\\\\cookbook.pdf'}, page_content='Calories \\nServing size\\n8 servings per container\\nTotal Fat  10g  \\nSaturated Fat  3.5g\\nTrans Fat  0g \\nCholesterol  60mg \\nSodium  580mg  \\nTotal Carbohydrate  30g  \\nDietary Fiber  6g \\nTotal Sugars  5g \\nIncludes 0g Added Sugars \\nProtein  23g  \\n13%\\n18%\\n20%\\n25%\\n11%\\n21%\\n0%\\nVitamin D 0mcg  0% Calcium 119mg 10%\\nIron 2mg  10%\\nVitamin A 56mcg 6%\\nPotassium 710mg  15%\\nVitamin C 11mg  12%\\n* \\nabout 1 cup (307g)\\nAmount per serving \\n300\\n% Daily Value* \\nNutrition Facts'),\n",
       " Document(metadata={'source': 'data\\\\cookbook.pdf'}, page_content='Nutrition Facts\\nThe % Daily Value (DV) tells you how much a nutrient in\\na serving of food contributes to a daily diet. 2,000 calories\\na day is used for general nutrition advice.\\nIngredients\\n1 Tablespoon oil\\n1 pound boneless, skinless chicken breasts, cut bite-sized \\n1 onion, chopped\\n1½ teaspoons of garlic powder or 6 cloves garlic, minced\\n3 cups cooked white beans (or two 15-ounce cans, drained \\nand rinsed)\\n2 cups chicken or vegetable broth\\n1 cup (two 4-ounce cans) chopped mild green chiles'),\n",
       " Document(metadata={'source': 'data\\\\cookbook.pdf'}, page_content='1 teaspoon ground cumin\\n1 teaspoon dried oregano\\n½ teaspoon pepper\\n¼ teaspoon cayenne pepper or chili powder, if desired\\n1 cup (8 ounces) sour cream or plain yogurt\\n½ cup nonfat or 1% milk\\nDirections\\n1. Heat oil in a large saucepan; sauté the chicken, onion and \\ngarlic until the chicken is no longer pink.\\n2. Add the beans, broth, green chiles and seasonings.\\n3. Bring to a boil. Reduce the heat and simmer uncovered \\nfor 30 minutes.\\n4. Remove from the heat; stir in sour cream or yogurt and \\nmilk.'),\n",
       " Document(metadata={'source': 'data\\\\cookbook.pdf'}, page_content='milk.\\nVariations\\n ✪Use turkey or 2 cups of beans \\ninstead of the chicken. \\n ✪Serve with hot sauce or black \\npepper.\\nWhite Chicken Chili\\nPrep time: 20 minutes Cooking time: 35 minutes Makes: 8 cups\\nBroth or Bouillon\\nBroth can be canned or made using bouillon. For each cup \\nof broth use 1 cup very hot water and 1 teaspoon or cube \\nof bouillon.\\n17'),\n",
       " Document(metadata={'source': 'data\\\\cookbook.pdf'}, page_content='Calories \\nServing size\\n8 servings per container\\nTotal Fat  7g  \\nSaturated Fat  3g\\nTrans Fat  0g \\nCholesterol  30mg \\nSodium  390mg  \\nTotal Carbohydrate  25g  \\nDietary Fiber  1g \\nTotal Sugars  3g \\nIncludes 0g Added Sugars \\nProtein  11g  \\n9%\\n15%\\n10%\\n17%\\n9%\\n4%\\n0%\\nVitamin D 0mcg  0% Calcium  90mg 6%\\nIron 2mg  10%\\nVitamin A 101mcg 11%\\nPotassium 310mg  6%\\nVitamin C 15mg  17%\\n* \\n1 cup (190g)\\nAmount per serving \\n210\\n% Daily Value* \\nNutrition Facts\\nThe % Daily Value (DV) tells you how much a nutrient in'),\n",
       " Document(metadata={'source': 'data\\\\cookbook.pdf'}, page_content='a serving of food contributes to a daily diet. 2,000 calories\\na day is used for general nutrition advice.\\nIngredients\\n½ pound lean ground beef (15% fat)\\n¾ cup chopped onion (¾ medium onion)\\n1 cup uncooked white rice\\n1 can (15 ounces) diced tomatoes (about 2 medium fresh \\ntomatoes)\\n1½ cups vegetables, fresh, frozen, or canned and drained \\n(try one or more of the following: zucchini, bell pepper, \\nbroccoli, corn, cauliflower)\\n1¾ cups water\\n1½ teaspoons chili powder\\n1 Tablespoon oregano'),\n",
       " Document(metadata={'source': 'data\\\\cookbook.pdf'}, page_content='1 teaspoon salt\\n½ cup (2 ounces) shredded cheese\\nDirections\\n1. Cook beef in a large skillet over medium-high heat until \\nno longer pink. Drain fat.\\n2. Add onion and cook until soft, about 3 to 5 minutes.\\n3. Add rice, tomatoes, vegetables, water and spices. Stir and \\nbring to a boil.\\n4. Reduce heat to medium low. Cover, and simmer for 20 \\nminutes or until rice is cooked. Add more water if needed.\\n5. Remove from heat. Sprinkle with cheese and cover for'),\n",
       " Document(metadata={'source': 'data\\\\cookbook.pdf'}, page_content='1 to 2 minutes to allow cheese to melt. Serve warm.\\nVariations\\n ✪Try brown rice and simmer for 15 \\nmore minutes.\\n ✪Try ground turkey or 1½ cups of \\nbeans (a 15-ounce can, drained \\nand rinsed) in place of beef.\\n ✪For extra flavor, in step 3 add ¼ \\nteaspoon pepper and 1 teaspoon \\ngarlic powder or 4 cloves minced \\ngarlic.\\nVegetable and Beef Skillet Meal\\nPrep time: 10 minutes Cooking time: 40 minutes Makes: 8 cups\\n18'),\n",
       " Document(metadata={'source': 'data\\\\cookbook.pdf'}, page_content='Ingredients\\n2 medium potatoes (each about 5 x 2½ inches)\\n1 cup cooked black beans (or any type), drained and rinsed\\n¾ cup salsa\\n1 cup corn (canned and drained, frozen or fresh cooked)\\n½ cup shredded cheese (try cheddar, pepper jack)\\nDirections\\n1. Scrub the potatoes well. Poke each with a fork 2 or 3 \\ntimes. Microwave on high for 5 minutes, turn potatoes \\nover, and microwave another 3 to 5 minutes, or until \\neasily pierced with a fork. Set aside.'),\n",
       " Document(metadata={'source': 'data\\\\cookbook.pdf'}, page_content='2. In a microwave-safe bowl, combine the beans, salsa \\nand corn. Cover and cook on high for 2 to 3 minutes, \\nstirring halfway though \\ncooking time, until \\nheated through.\\n3. Cut the potatoes \\nlengthwise and \\nflatten them with a \\nfork. Divide the bean \\nmixture among the \\nhalves. Sprinkle with \\ncheese and serve.\\nNote\\n ✪Topping ideas: hot \\nsauce, avocado, black \\nolives, green onion, \\ncooked meat or tofu, or \\nplain low-fat yogurt or \\nsour cream.\\nCalories \\nServing size\\n4 servings per container'),\n",
       " Document(metadata={'source': 'data\\\\cookbook.pdf'}, page_content='Total Fat  5g  \\nSaturated Fat  3g\\nTrans Fat  0g \\nCholesterol  15mg \\nSodium  450mg  \\nTotal Carbohydrate  40g  \\nDietary Fiber  8g \\nTotal Sugars  4g \\nIncludes 0g Added Sugars \\nProtein  10g  \\n6%\\n15%\\n5%\\n20%\\n15%\\n29%\\n0%\\nVitamin D 0mcg  0% Calcium 125g 10%\\nIron 2mg  10%\\nVitamin A 54mcg 6%\\nPotassium 720mg  15%\\nVitamin C 24mg  27%\\n* \\n1 potato half (250g)\\nAmount per serving \\n240\\n% Daily Value* \\nNutrition Facts\\nThe % Daily Value (DV) tells you how much a nutrient in'),\n",
       " Document(metadata={'source': 'data\\\\cookbook.pdf'}, page_content='a serving of food contributes to a daily diet. 2,000 calories\\na day is used for general nutrition advice.\\nPrep time: 5 minutes Cooking time: 15 minutes Makes: 4 potato halves\\nSouthwestern Stuffed Potatoes\\nCooking Dry Beans\\n1. Sort and rinse to remove \\nstones, seeds, damaged beans \\nand dust.\\n2. Soak—Cover the beans with \\nplenty of water (8 cups of \\nwater for every 2 cups of \\nbeans). Soak for 6 hours or \\novernight. \\n3. Drain and rinse the beans.\\n4. Cook—In a large saucepan,'),\n",
       " Document(metadata={'source': 'data\\\\cookbook.pdf'}, page_content='add fresh water to cover the \\nbeans by at least 1 inch, and \\nbring to a boil. Reduce heat, \\ncover and simmer until the \\nbeans are tender. Add water \\nif needed to keep the beans \\ncovered with liquid during \\ncooking. Cooking time varies \\nfor different beans, but is \\nusually from 1 to 2 hours. The \\nbeans are done when you can \\neasily mash them with a fork.\\n5. Add flavoring!\\n19'),\n",
       " Document(metadata={'source': 'data\\\\cookbook.pdf'}, page_content='Calories \\nServing size\\n15 servings per container\\nTotal Fat  3.5g  \\nSaturated Fat  0g\\nTrans Fat  0g \\nCholesterol  0mg  \\nSodium  260mg  \\nTotal Carbohydrate  14g  \\nDietary Fiber  5g \\nTotal Sugars  2g \\nIncludes 0g Added Sugars \\nProtein  4g  \\n4%\\n0%\\n0%\\n11%\\n5%\\n18%\\n0%\\nVitamin D 0mcg 0% Calcium 27mg 2%\\nIron 1mg  6%\\nVitamin A 8mcg 1%\\nPotassium 291mg 6%\\nVitamin C 8mg    8%\\n* \\n1/2 cup (119g)\\nAmount per serving \\n90\\n% Daily Value* \\nNutrition Facts\\nThe % Daily Value (DV) tells you how much a nutrient in'),\n",
       " Document(metadata={'source': 'data\\\\cookbook.pdf'}, page_content='a serving of food contributes to a daily diet. 2,000 calories\\na day is used for general nutrition advice.\\nIngredients\\n3 cups cooked black-eyed peas or black beans (or two \\n15-ounce cans, drained and rinsed; try a mix or any type) \\n1½ cups cooked corn (fresh or frozen, or a 15-ounce can \\ndrained and rinsed)\\n1 bunch cilantro\\n1 bunch green onions (5 green onions)\\n3 medium tomatoes (or a 15-ounce can diced tomatoes, \\ndrained)\\n1 avocado, if desired\\n1 Tablespoon oil'),\n",
       " Document(metadata={'source': 'data\\\\cookbook.pdf'}, page_content='1 Tablespoon oil\\n2 Tablespoons vinegar or lime juice\\n½ teaspoon each salt and pepper\\nDirections\\n1. Drain and rinse the black-eyed peas (or black beans) and \\ncorn.\\n2. Finely chop the cilantro and green onions.\\n3. Dice the tomatoes and avocado, if desired.\\n4. Combine all vegetables in a large bowl.\\n5. Mix the oil, vinegar or lime juice, salt and pepper \\ntogether in a small bowl.\\n6. Pour the oil mixture over the vegetables and toss lightly.\\nTastes great with these Food Hero recipes:'),\n",
       " Document(metadata={'source': 'data\\\\cookbook.pdf'}, page_content='✪Easy Cheesy Enchiladas\\n ✪Fish Taco Salad\\n ✪Rice Bowl Southwestern Style\\n ✪Spicy Rice Casserole\\nVariations\\n ✪Try adding other vegetables \\nsuch as sweet or hot peppers or \\nzucchini.\\n ✪Make it a meal. Add diced and \\ncooked chicken, turkey or baked \\ntofu; add grains such as rice or \\ncouscous; wrap in a tortilla; or \\nserve on top of salad greens.\\nNote\\n ✪Freeze extra lime juice.\\nCowboy Salad\\nPrep time: 20 minutes  Makes: 8 cups\\nTips for Draining Canned Beans'),\n",
       " Document(metadata={'source': 'data\\\\cookbook.pdf'}, page_content='When using canned beans, drain and rinse them before \\nadding them to recipes to lower the sodium.\\n20'),\n",
       " Document(metadata={'source': 'data\\\\cookbook.pdf'}, page_content='Ingredients\\n2 teaspoons oil\\n1 cup chopped onion (about 1 medium onion)\\n2 cloves of garlic, minced, or ½ teaspoon garlic powder\\n1 teaspoon ground cumin\\n1½ cups cooked navy beans or any type of beans (or a \\n15-ounce can, drained and rinsed; try any type)\\n3½ cups diced tomatoes (fresh or a 28-ounce can diced \\nwith juice)\\n4 cups chicken broth (any type)\\n1 cup tomato sauce (an 8-ounce can)\\n1 cup (two 4-ounce cans) chopped mild green chiles\\n2 teaspoons dried oregano\\n2 cups chopped cooked chicken'),\n",
       " Document(metadata={'source': 'data\\\\cookbook.pdf'}, page_content='½ cup chopped cilantro\\n1 cup shredded cheese\\n10 corn tortillas cut into strips, if desired\\nDirections\\n1. Heat the oil in a large pot. Add the onion, garlic and \\ncumin, and sauté until the onion is softened but not \\nbrowned.\\n2. Add the beans, tomatoes with juice, and chicken broth. \\nHeat to a boil. Reduce heat.\\n3. Stir in the tomato sauce, chilies, oregano and chicken. \\nSimmer 15 minutes.\\n4. When ready to serve, stir in the cilantro and cheese until'),\n",
       " Document(metadata={'source': 'data\\\\cookbook.pdf'}, page_content='melted. Serve tortilla strips on the side as soup toppings, \\nif desired.\\nChicken Enchilada Soup\\nPrep time: 10 minutes Cooking time: 30 minutes Makes: 12 cups\\nBaked Tortilla Strips\\n1. Preheat oven to 350  \\ndegrees F.\\n2. Stack the tortillas and cut the \\nstack in half. Cut each half-\\nstack into strips.\\n3. Spread the strips on a baking \\nsheet.\\n4. Bake, tossing frequently, for \\n15 minutes or until crispy and \\nstarting to lightly brown.\\nCalories \\nServing size\\n12 servings per container\\nTotal Fat  6g'),\n",
       " Document(metadata={'source': 'data\\\\cookbook.pdf'}, page_content='Total Fat  6g  \\nSaturated Fat  2g\\nTrans Fat  0g \\nCholesterol  25mg  \\nSodium  510mg  \\nTotal Carbohydrate  22g  \\nDietary Fiber  4g \\nTotal Sugars  3g \\nIncludes 0g Added Sugars \\nProtein  15g  \\n8%\\n10%\\n8%\\n22%\\n8%\\n14%\\n0%\\nVitamin D 0mcg 0% Calcium 127mg 10%\\nIron 2mg  10%\\nVitamin A 54mcg 6%\\nPotassium 243mg 6%\\nVitamin C 20mg    22%\\n* \\n1 cup (280g)\\nAmount per serving \\n200\\n% Daily Value* \\nNutrition Facts\\nThe % Daily Value (DV) tells you how much a nutrient in'),\n",
       " Document(metadata={'source': 'data\\\\cookbook.pdf'}, page_content='a serving of food contributes to a daily diet. 2,000 calories\\na day is used for general nutrition advice.\\n21'),\n",
       " Document(metadata={'source': 'data\\\\cookbook.pdf'}, page_content='Ingredients\\n2 teaspoons vegetable oil\\n2 cloves of garlic, minced, or ½ teaspoon garlic powder\\n1 can (15 ounces) diced or crushed tomatoes with juice\\n¼ teaspoon each salt and pepper\\n1 Tablespoon lemon juice, if desired\\n¼ teaspoon red pepper flakes, if desired\\nDirections\\n1. If using garlic powder, omit the oil and skip this step. In \\na medium saucepan, heat the oil over medium heat. Add \\nthe garlic and cook for 1 minute.\\n2. Add the remaining ingredients. Cook until heated'),\n",
       " Document(metadata={'source': 'data\\\\cookbook.pdf'}, page_content='through, stirring occasionally. For a thicker sauce, cook an \\nextra 10 to 20  \\nminutes to allow \\nmore of the liquid to \\nevaporate.\\n3. Serve over pasta or  \\nuse in any recipe that \\ncalls for pasta sauce.\\nVariation\\n ✪Add 1 teaspoon dried \\noregano or basil, or \\nItalian seasoning.\\nQuick Tomato Pasta Sauce\\nPrep time: 5 minutes Cooking time: 15 minutes Makes: 2 cups\\nBaked Spaghetti Squash\\n1. Preheat oven to 425 degrees \\nF. Cut the squash in half \\nlengthwise. If needed,'),\n",
       " Document(metadata={'source': 'data\\\\cookbook.pdf'}, page_content='microwave or bake it for a few \\nminutes to soften.\\n2. Remove the seeds and stringy \\nfibers with a spoon.\\n3. Rub the cut edges with a little \\noil, if desired. Place the halves \\ncut side down on a baking dish \\nand bake uncovered.\\n4. After 40 minutes, check. If the \\nsquash can be pierced with a \\nfork and if the flesh separates \\ninto strands, it is cooked.\\n5. Once cool enough to handle, \\nuse a fork to gently scrape the \\ninsides and make spaghetti-\\nlike strands.\\nCalories \\nServing size'),\n",
       " Document(metadata={'source': 'data\\\\cookbook.pdf'}, page_content='Serving size\\n4 servings per container\\nTotal Fat  2.5g  \\nSaturated Fat  0g\\nTrans Fat  0g \\nCholesterol  0mg \\nSodium  340mg  \\nTotal Carbohydrate  8g  \\nDietary Fiber  2g \\nTotal Sugars  5g \\nIncludes 0g Added Sugars \\nProtein  2g  \\n3%\\n0%\\n0%\\n15%\\n3%\\n7%\\n0%\\nVitamin D 0mcg  0% Calcium 38mg 2%\\nIron 1mg  6%\\nVitamin A 11mcg 1%\\nPotassium 309mg  6%\\nVitamin C 10mg  11%\\n* \\n1/2 cup (107g)\\nAmount per serving \\n60\\n% Daily Value* \\nNutrition Facts\\nThe % Daily Value (DV) tells you how much a nutrient in'),\n",
       " Document(metadata={'source': 'data\\\\cookbook.pdf'}, page_content='a serving of food contributes to a daily diet. 2,000 calories\\na day is used for general nutrition advice.\\n22'),\n",
       " Document(metadata={'source': 'data\\\\cookbook.pdf'}, page_content='Calories \\nServing size\\n9 servings per container\\nTotal Fat  11g  \\nSaturated Fat  4.5g\\nTrans Fat  0g \\nCholesterol  50mg \\nSodium  610mg  \\nTotal Carbohydrate  17g  \\nDietary Fiber  1g \\nTotal Sugars  7g \\nIncludes 2g Added Sugars \\nProtein  24g  \\n14%\\n23%\\n17%\\n27%\\n6%\\n4%\\n4%\\nVitamin D 0mcg  0% Calcium 159mg 10%\\nIron 3mg  15%\\nVitamin A 45mcg 5%\\nPotassium 497mg  10%\\nVitamin C 6mg  7%\\n* \\n1 cup (196g)\\nAmount per serving \\n260\\n% Daily Value* \\nNutrition Facts\\nThe % Daily Value (DV) tells you how much a nutrient in'),\n",
       " Document(metadata={'source': 'data\\\\cookbook.pdf'}, page_content='a serving of food contributes to a daily diet. 2,000 calories\\na day is used for general nutrition advice.\\nIngredients\\n1 pound lean ground beef (15% fat)\\n1 large onion, chopped\\n1 clove of garlic, minced, or ¼ teaspoon garlic powder\\n2 cups spaghetti sauce\\n4 Tablespoons fresh parsley, or 4 teaspoons dried\\n1 teaspoon dried oregano\\n1 teaspoon dried basil\\n1 pint (2 cups) low-fat cottage cheese, ricotta cheese,  \\nor a mixture of the two\\n⅔ cup shredded mozzarella cheese\\n6 uncooked lasagna noodles'),\n",
       " Document(metadata={'source': 'data\\\\cookbook.pdf'}, page_content='⅓ cup grated parmesan cheese\\nDirections\\n1. In a 10-inch skillet or saucepan, cook the ground beef \\nover medium-high heat until it is no longer pink.\\n2. Drain the fat. Add the onion and cook until it is soft.\\n3. Add the garlic, 1 cup of the spaghetti sauce, and the \\nherbs. Stir. Spread evenly in the skillet.\\n4. Reduce the heat to low. Spoon the cottage cheese or \\nricotta over the mixture, and sprinkle with half of the \\nmozzarella. Top with the noodles, breaking them as'),\n",
       " Document(metadata={'source': 'data\\\\cookbook.pdf'}, page_content='needed to fill in all open spaces.\\n5. Pour the remaining spaghetti sauce evenly over the \\ntop of the noodles. Gently press the noodles down to \\nmoisten.\\n6. Cover and simmer for 15 to 20 minutes until the noodles \\nare tender. Top with the remaining cheeses. Cover and \\nsimmer 2 more minutes or until cheeses are melted.\\n7. Let stand, covered, 5 to 10 minutes before serving.\\nVariations\\n ✪Try ground turkey or 2 cups of \\nbeans in place of the beef.\\n ✪Try whole-grain pasta for more \\nfiber.'),\n",
       " Document(metadata={'source': 'data\\\\cookbook.pdf'}, page_content='fiber.\\nQuick Lasagna\\nPrep time: 10 minutes Cooking time: 45 minutes Makes: 9 cups\\nFood Hero Ranch Dressing  is also shown in the photo.\\nTips for Draining Beef Fat\\nPour beef fat into a metal can (it \\nwon’t melt from the heat of the \\nfat) or let it cool slightly and pour \\nit over papers in the garbage can. \\nPouring beef fat down the sink \\ndrain can cause clogging.\\n23'),\n",
       " Document(metadata={'source': 'data\\\\cookbook.pdf'}, page_content='Ingredients\\n2 cans (15 ounces each) pinto beans, drained and rinsed\\n1 cup salsa\\n1½ cups cooked corn (fresh or frozen, or a 15-ounce can \\ndrained and rinsed)\\n½ cup (a 4-ounce can) chopped mild green chiles\\n2 cloves of garlic, minced, or ½ teaspoon garlic powder \\n1½ cups shredded cheese\\n8 whole wheat flour tortillas (10-inches) or 12 corn \\ntortillas (6-inches)\\n1 can (15 ounces) enchilada sauce\\nDirections\\n1. Preheat oven to 350 degrees F. Lightly oil or spray a  \\n9 x 13-inch baking dish.'),\n",
       " Document(metadata={'source': 'data\\\\cookbook.pdf'}, page_content='2. Mix beans, salsa, corn, chilies, garlic and half of the \\ncheese together in a bowl.\\n3. Warm each tortilla in a dry skillet and stack them on a \\nplate.\\n4. Spoon about ½ cup of the bean mixture onto each \\ntortilla.\\n5. Roll the tortilla and place seam-side down in a baking \\ndish.\\n6. Pour enchilada sauce over the tortillas and sprinkle with \\nremaining cheese.\\n7. Bake for 15 to 20 minutes, or until hot.\\nVariation\\n ✪Substitute cooked chicken or \\nblack beans for the pinto beans.\\nNote'),\n",
       " Document(metadata={'source': 'data\\\\cookbook.pdf'}, page_content='Note\\n ✪Topping ideas: hot sauce, avocado, \\nblack olives, green onion, lettuce, \\nradishes, or plain low-fat yogurt or \\nsour cream.\\nPrep time: 10 minutes Cooking time: 20 minutes Makes: 8 enchiladas\\nEasy Cheesy Enchiladas\\nCalories \\nServing size\\n12 servings per container\\nTotal Fat  6g  \\nSaturated Fat  2.5g\\nTrans Fat  0g \\nCholesterol  15mg  \\nSodium  580mg  \\nTotal Carbohydrate  30g  \\nDietary Fiber  6g \\nTotal Sugars  4g \\nIncludes 0g Added Sugars \\nProtein  9g  \\n8%\\n13%\\n5%\\n25%\\n11%\\n21%\\n0%'),\n",
       " Document(metadata={'source': 'data\\\\cookbook.pdf'}, page_content='5%\\n25%\\n11%\\n21%\\n0%\\nVitamin D 0mcg  0% Calcium 140mg 10%\\nIron 2mg  10%\\nVitamin A 56mcg    6%\\nPotassium 305mg  6%\\nVitamin C 5mg    6%\\nThe % Daily Value (DV) tells you how much a nutrient in\\na serving of food contributes to a daily diet. 2,000 calories\\na day is used for general nutrition advice.\\n* \\n1 enchilada (201g)\\nAmount per serving \\n210\\n% Daily Value* \\nNutrition Facts\\n24'),\n",
       " Document(metadata={'source': 'data\\\\cookbook.pdf'}, page_content='Calories \\nServing size\\n7 servings per container\\nTotal Fat  12g  \\nSaturated Fat  4.5g\\nTrans Fat  0g \\nCholesterol  65mg  \\nSodium  520mg  \\nTotal Carbohydrate  26g  \\nDietary Fiber  1g \\nTotal Sugars  2g \\nIncludes 0g Added Sugars \\nProtein  24g  \\n15%\\n23%\\n22%\\n23%\\n9%\\n4%\\n0%\\nVitamin D 0mcg 0% Calcium 148mg 10%\\nIron 2mg  10%\\nVitamin A 86mcg 7%\\nPotassium 430mg 10%\\nVitamin C 1mg    1%\\nThe % Daily Value (DV) tells you how much a nutrient in\\na serving of food contributes to a daily diet. 2,000 calories'),\n",
       " Document(metadata={'source': 'data\\\\cookbook.pdf'}, page_content='a day is used for general nutrition advice.\\n* \\n1 cup (236g)\\nAmount per serving \\n310\\n% Daily Value* \\nNutrition Facts\\nIngredients\\n1 pound boneless, skinless chicken breast (2-3 halves)\\n2 teaspoons oil\\n1¼ cups chicken broth (any type)\\n1 can (10.5 ounces) condensed cream of chicken soup (or  \\nany creamed soup)\\n1 teaspoon pepper\\n½ teaspoon garlic powder or 2 cloves of garlic, minced\\n2 cups small shell pasta, uncooked\\n2½ cups broccoli, chopped (fresh or frozen)'),\n",
       " Document(metadata={'source': 'data\\\\cookbook.pdf'}, page_content='1 cup (4 ounces) cheddar cheese, shredded\\nDirections\\n1. Cut the chicken breast into bite-sized pieces. Sauté the \\npieces in oil in a large skillet over medium-high heat until \\nlightly browned, 2 to 3 minutes.\\n2. Add the broth, soup, pepper and garlic. Stir until smooth. \\nAdd the pasta.\\n3. Bring to a boil. Cover and reduce heat to low. Simmer 15 \\nminutes. Add the broccoli and continue cooking until the \\npasta and broccoli are tender, about 5 minutes. Add a'),\n",
       " Document(metadata={'source': 'data\\\\cookbook.pdf'}, page_content='small amount of water near the end of cooking if needed \\nto prevent sticking.\\n4. Add cheese during the last two minutes of cooking. Stir \\nuntil the cheese is melted.\\nVariations\\n ✪Try whole-grain pasta for more \\nfiber.\\n ✪Try pasta in different shapes, such \\nas spiral or elbow.\\n ✪Add other vegetables such as \\npeas, grated carrots or chopped \\nbell peppers.\\n ✪In place of chicken, use 1½ cups \\nof white beans (a 15-ounce can, \\ndrained and rinsed), another meat \\nor tuna or salmon.'),\n",
       " Document(metadata={'source': 'data\\\\cookbook.pdf'}, page_content='or tuna or salmon.\\nChicken, Broccoli & Cheese Skillet\\nPrep time: 15 minutes Cooking time: 30 minutes Makes: 7 cups\\n25'),\n",
       " Document(metadata={'source': 'data\\\\cookbook.pdf'}, page_content='Skillet Mac and Cheese\\nPrep time: 10 minutes Cooking time: 20 minutes Makes: 4 cups\\nCalories \\nServing size\\n4 servings per container\\nTotal Fat  13g  \\nSaturated Fat  7g\\nTrans Fat  0.5g \\nCholesterol  35mg \\nSodium  420mg  \\nTotal Carbohydrate  37g  \\nDietary Fiber  0g \\nTotal Sugars  5g \\nIncludes 0g Added Sugars \\nProtein  16g  \\n17%\\n35%\\n12%\\n18%\\n13%\\n0%\\n0%\\nVitamin D 1mcg  6% Calcium 358mg 30%\\nIron 2mg  10%\\nVitamin A 164mcg 18%\\nPotassium 239mg  6%\\nVitamin C 0mg  0%\\n* \\n1 cup (275g)\\nAmount per serving \\n340'),\n",
       " Document(metadata={'source': 'data\\\\cookbook.pdf'}, page_content='340\\n% Daily Value* \\nNutrition Facts\\nThe % Daily Value (DV) tells you how much a nutrient in\\na serving of food contributes to a daily diet. 2,000 calories\\na day is used for general nutrition advice.\\nIngredients\\n2 cups water\\n1½ cups uncooked macaroni\\n1 teaspoon butter or margarine\\n2 Tablespoons flour\\n¼ teaspoon salt\\n¼ teaspoon dry mustard or 1 teaspoon prepared mustard\\n1¼ cups nonfat or 1% milk\\n1¼ cups (5 ounces) grated cheddar cheese\\nDirections'),\n",
       " Document(metadata={'source': 'data\\\\cookbook.pdf'}, page_content='Directions\\n1. In a 10-inch skillet or saucepan, bring the water to a boil.\\n2. Add the macaroni and butter or margarine. Stir a few \\ntimes to prevent sticking.\\n3. Cover the pan and reduce the heat to low. Simmer for 5 \\nminutes (do not drain the water).\\n4. Meanwhile, mix the flour, salt and mustard in a small \\nbowl. Add ¼ cup of milk and stir until smooth. Add the \\nremaining milk. Set aside.\\n5. Take the lid off the skillet and cook the macaroni until \\nmost of the water is gone.'),\n",
       " Document(metadata={'source': 'data\\\\cookbook.pdf'}, page_content='6. Stir in the milk mixture and cheese. Cook and stir until all \\nthe cheese melts and the sauce is bubbly and thick.\\nVariations\\n ✪Add your favorite fresh or frozen \\nvegetables in step 2. Try onions, \\ncelery, carrots, zucchini, spinach, \\nbroccoli or tomatoes.\\n ✪Add your favorite seasonings in \\nstep 4. Try oregano, garlic powder, \\nchili powder or others.\\n ✪Use a combination of cheddar and \\nmozzarella cheese.\\n ✪Try whole-wheat macaroni or \\npasta in different shapes.\\n26'),\n",
       " Document(metadata={'source': 'data\\\\cookbook.pdf'}, page_content='Ingredients\\n4 cups cooked rotini or penne pasta\\n2 cups chopped tomatoes\\n1 cup chopped broccoli\\n¼ cup sliced black olives\\n2 Tablespoons grated parmesan cheese\\n½ to 1 cup low-fat Italian salad dressing\\nDirections\\n1. Combine the pasta, tomatoes, broccoli and black olives \\ntogether in a bowl.\\n2. Add the cheese and salad dressing. Stir together and \\nrefrigerate until ready to serve.\\nVariations\\n ✪Try adding other \\nvegetables such as \\ncorn, cucumber and \\navocado.\\n ✪Try whole-wheat pasta.'),\n",
       " Document(metadata={'source': 'data\\\\cookbook.pdf'}, page_content='✪Low-fat vinaigrette \\nsalad dressing also \\nworks in this recipe.\\nTomato Pasta Salad\\nPrep time: 15 minutes  Makes: 6 cups\\nCalories \\nServing size\\n6 servings per container\\nTotal Fat  7g  \\nSaturated Fat  1.5g\\nTrans Fat  0g \\nCholesterol  0mg \\nSodium  570mg  \\nTotal Carbohydrate  38g  \\nDietary Fiber  1g \\nTotal Sugars  6g \\nIncludes 1.5g Added Sugars \\nProtein  7g  \\n9%\\n8%\\n0%\\n25%\\n14%\\n4%\\n3%\\nVitamin D 0mcg  0% Calcium 61mg 4%\\nIron 2mg  10%\\nVitamin A 49mcg 5%\\nPotassium 258mg  6%\\nVitamin C 2mg  2%\\n*'),\n",
       " Document(metadata={'source': 'data\\\\cookbook.pdf'}, page_content='* \\n1 cup (221g)\\nAmount per serving \\n250\\n% Daily Value* \\nNutrition Facts\\nThe % Daily Value (DV) tells you how much a nutrient in\\na serving of food contributes to a daily diet. 2,000 calories\\na day is used for general nutrition advice.\\nCook Corn on the Cob\\nBoil: Add husked corn ears to \\nenough boiling water to cover \\nthem; boil until heated through, \\n5 to 7 minutes. \\nMicrowave: Place up to 4 ears \\nof corn still in the husk in the \\nmicrowave. Microwave on high \\n3 to 6 minutes depending on'),\n",
       " Document(metadata={'source': 'data\\\\cookbook.pdf'}, page_content='the  number of ears and desired \\ntexture.\\nRoast or Grill: Brush each ear \\nwith melted butter or margarine \\nand wrap in foil. Roast 20 \\nminutes, turning once, on a grill \\nor in a 350-degree F oven.\\nSauté: Add raw cut corn to a \\nskillet with a small amount of \\nmargarine or butter. Cook and \\nstir over medium-high heat for 5 \\nto 7 minutes.\\n27'),\n",
       " Document(metadata={'source': 'data\\\\cookbook.pdf'}, page_content='Skillet-Braised Chicken\\nPrep time: 5 minutes Cooking time: 20 minutes Makes: 2 servings\\nPrep time: 1 hour Cooking time: 30 minutes Makes: 3 cups\\nBaked Tofu\\nIngredients\\nSeasoning— such as salt, pepper, \\nseason salt, onion powder or \\ngarlic powder, as desired\\n1 chicken breast\\n1 Tablespoon oil\\nIngredients\\n1 block (16 ounces) tofu, firm or \\nextra firm\\nMarinade\\n2 Tablespoons reduced-sodium soy \\nsauce\\n2 Tablespoons vinegar (balsamic, \\ncider, or rice)\\n1 Tablespoon honey or brown sugar'),\n",
       " Document(metadata={'source': 'data\\\\cookbook.pdf'}, page_content='1 Tablespoon vegetable oil or \\nsesame oil\\nNote\\n ✪Honey is not recommended for \\nchildren less than 1 year old.\\nDirections\\n1. Season the chicken. Sauté it for 1 minute per side in a \\nlightly oiled skillet over medium-high heat until lightly \\nbrowned.\\n2. Cover the skillet with a tight-fitting lid. Reduce the heat \\nto low. Cook for 10 minutes. Do not lift the lid.\\n3. Turn off the heat. Let the chicken rest for 10 minutes. Do \\nnot remove the lid.'),\n",
       " Document(metadata={'source': 'data\\\\cookbook.pdf'}, page_content='not remove the lid.\\n4. Check if the chicken is cooked all the way through. If you \\nhave a meat thermometer, check in the thickest part to \\nmake sure the temperature is at least 165 degrees F. If \\nnot, cover and return to heat.\\nDirections\\n1. Press water out of the tofu, and cut it into pieces as you \\nchoose: cubes, slices, triangles or sticks.\\n2. Mix the marinade ingredients in a bowl. Add the tofu and \\nmarinate it for at least 30 minutes.'),\n",
       " Document(metadata={'source': 'data\\\\cookbook.pdf'}, page_content='3. Preheat oven to 350 degrees F. Place drained tofu flat on \\na baking dish or sheet.\\n4. Bake until the tofu is firm and lightly browned, about 30 \\nminutes. Turn the pieces once during baking.\\nVariation\\n ✪For a different flavor, use these ingredients for the \\nmarinade: ⅓ cup reduced-sodium soy sauce, ⅓ cup lime \\njuice and three Tablespoons vegetable or sesame oil.\\n28'),\n",
       " Document(metadata={'source': 'data\\\\cookbook.pdf'}, page_content='Ingredients\\n2 cups grated cauliflower (about half a medium \\nhead)\\n1 egg\\n3 Tablespoons flour\\n¼ cup cheddar cheese, grated\\n¼ teaspoon salt\\nDirections\\n1. Preheat oven to 400 degrees F. Grease a \\nbaking sheet.\\n2. Grate cauliflower on the large holes of a \\ngrater. \\n3. In a medium bowl, combine cauliflower, egg, \\nflour, cheese and salt; mix well. \\n4. Press mixture together to make about 15 \\nsmall balls or logs. Place on the baking sheet \\nwith space between each ball or log.'),\n",
       " Document(metadata={'source': 'data\\\\cookbook.pdf'}, page_content='5. Bake for 20 minutes or until cooked through. \\nFor extra crispy tots, broil for an extra 2 \\nminutes. Watch closely to avoid burning.\\nPrep time: 10 minutes Cooking time: 20 minutes Makes: 2 cups\\nBaked Cauliflower Tots  \\nSkillet Braised Chicken Baked Tofu Baked Cauliflower Tots\\nCalories \\nServing size\\n3 servings per container\\nTotal Fat  2.5g  \\nSaturated Fat  1g\\nTrans Fat  0g \\nCholesterol  40mg \\nSodium  200mg  \\nTotal Carbohydrate  9g  \\nDietary Fiber  2g \\nTotal Sugars  2g'),\n",
       " Document(metadata={'source': 'data\\\\cookbook.pdf'}, page_content='Total Sugars  2g \\nIncludes 0g Added Sugars \\nProtein  5g  \\n3%\\n5%\\n13%\\n9%\\n3%\\n7%\\n0%\\nVitamin D 0mcg  0% Calcium 67mg 6%\\nIron 1mg  6%\\nVitamin A 30mcg 3%\\nPotassium 296mg  6%\\nVitamin C 43mg  48%\\n* \\n5 tots (110g)\\nAmount per serving \\n70\\n% Daily Value* \\nNutrition Facts\\nThe % Daily Value (DV) tells you how much a nutrient in\\na serving of food contributes to a daily diet. 2,000 calories\\na day is used for general nutrition advice.\\nCalories \\nServing size\\n2 servings per container\\nTotal Fat  9g'),\n",
       " Document(metadata={'source': 'data\\\\cookbook.pdf'}, page_content='Total Fat  9g  \\nSaturated Fat  1g\\nTrans Fat  0g \\nCholesterol  35mg \\nSodium  30mg  \\nTotal Carbohydrate  0g  \\nDietary Fiber  0g \\nTotal Sugars  0g \\nIncludes 0g Added Sugars \\nProtein  13g  \\n12%\\n5%\\n12%\\n1%\\n0%\\n0%\\n0%\\nVitamin D 0mcg  0% Calcium  6mg 0%\\nIron 0mg  0%\\nVitamin A 3mcg 0%\\nPotassium 110mg  2%\\nVitamin C 0mg  0%\\n* \\n1/2 breast (50g)\\nAmount per serving \\n130\\n% Daily Value* \\nNutrition Facts\\nThe % Daily Value (DV) tells you how much a nutrient in'),\n",
       " Document(metadata={'source': 'data\\\\cookbook.pdf'}, page_content='a serving of food contributes to a daily diet. 2,000 calories\\na day is used for general nutrition advice.\\nCalories \\nServing size\\n6 servings per container\\nTotal Fat  6g  \\nSaturated Fat  0g\\nTrans Fat  0g \\nCholesterol  0mg  \\nSodium  190mg  \\nTotal Carbohydrate  5g  \\nDietary Fiber  0g \\nTotal Sugars  3g \\nIncludes 3g Added Sugars \\nProtein  7g  \\n8%\\n0%\\n0%\\n8%\\n2%\\n0%\\n6%\\nVitamin D 0mcg 0% Calcium 145mg 10%\\nIron 1mg  6%\\nVitamin A 0mcg 0%\\nPotassium 21mg  0%\\nVitamin C 0mg    0%'),\n",
       " Document(metadata={'source': 'data\\\\cookbook.pdf'}, page_content='Vitamin C 0mg    0%\\nThe % Daily Value (DV) tells you how much a nutrient in\\na serving of food contributes to a daily diet. 2,000 calories\\na day is used for general nutrition advice.\\n* \\n3 ounces (92g)\\nAmount per serving \\n100\\n% Daily Value* \\nNutrition Facts\\n29'),\n",
       " Document(metadata={'source': 'data\\\\cookbook.pdf'}, page_content='1.\\nWash and Cut \\nVegetables\\n2.\\nPreheat  \\nOven\\n3.\\nMix Oil and Seasonings \\nwith Vegetables—place  \\nflat on baking sheet\\n4.\\nRoast in Oven— \\nstir half way \\nthrough cook time*\\nAsparagus 1 pound, fresh spears \\nwith ends snapped or  \\ncut off (about 24  \\nmedium spears)\\n400 degrees F 1 tsp oil\\n⅛ tsp each salt and pepper\\n12 to 15 minutes \\nBaking \\nPotatoes \\nor Sweet \\nPotatoes \\n3 large, cut into  \\n8 wedges\\n450 degrees F 3 Tbsp oil\\n1½ tsp paprika\\n1½ tsp onion powder\\n½ tsp garlic powder\\n½ tsp chili powder'),\n",
       " Document(metadata={'source': 'data\\\\cookbook.pdf'}, page_content='½ tsp chili powder\\n30 minutes\\nBrussels \\nSprouts\\n1¼ pounds (about 18 \\nlarge) with ends  \\ntrimmed off and \\nquartered\\n400 degrees F 1 Tbsp oil\\n⅛ tsp each salt and pepper\\n1 tsp lemon juice\\n20 to 30 minutes\\nCarrots 1½ pounds (about 7 \\nmedium) peeled and  \\ncut into sticks\\n400 degrees F 1 Tbsp oil\\n⅛ tsp salt \\n20 to 30 minutes\\nCauliflower \\nor Broccoli\\n1 medium-sized head,  \\ncut into florets\\n400 degrees F 1 tsp oil\\n½ tsp each salt and pepper\\n¼ cup grated cheese, if desired\\n24 to 30 minutes'),\n",
       " Document(metadata={'source': 'data\\\\cookbook.pdf'}, page_content='24 to 30 minutes\\n*Time varies based on size of vegetables and oven temperature.\\nRoasted Vegetables\\nStovetop Rice\\n1. Add dry rice and water or broth to a pot. \\n• 1 cup white rice to 2 cups liquid\\n• 1 cup brown rice to 2¼ cups liquid\\n2. Bring to a boil. Stir once or twice.\\n3. Cover with a tight-fitting lid. Reduce the heat to very low.\\n4. Cook white rice 18 to 20 minutes, and brown rice 35 to 45 minutes.\\n5. Check rice. If it is not tender or there is still some liquid in the pan,'),\n",
       " Document(metadata={'source': 'data\\\\cookbook.pdf'}, page_content='cover and cook 2 to 4 more minutes.\\n6. When done, take the pan off the heat. Remove the lid and fluff the rice with a fork.\\n30'),\n",
       " Document(metadata={'source': 'data\\\\cookbook.pdf'}, page_content='Storing Fresh Vegetables\\nCarrots: Store in a plastic bag in the refrigerator for up to \\n2 weeks, poking a few small holes in the bag to let air in. \\nKeep carrot sticks for snacks in your refrigerator for up to 1 \\nweek; to prevent the sticks from drying out, store in water. \\nCarrots can be frozen after blanching.\\nOnions: Store in a cool, dark, dry place in an open bowl \\nor bag for several weeks. Store peeled or cut onions in \\nsealed containers in the refrigerator and use within 2 weeks.'),\n",
       " Document(metadata={'source': 'data\\\\cookbook.pdf'}, page_content='Refrigerate green onions (scallions) immediately. Freeze \\nextra onions (raw or cooked) to avoid waste. Chop and sauté \\nif desired, or slice raw onions and place small amounts \\nin containers in your freezer and use within 8 months in \\ncooked dishes.\\nPotatoes: Store in a dark, cool, well-ventilated cupboard. \\nUse a paper bag or a plastic bag with holes to let air in and \\nkeep the potatoes from wilting. New potatoes (small size) \\nstay fresh for 2 to 3 days and mature potatoes (larger size)'),\n",
       " Document(metadata={'source': 'data\\\\cookbook.pdf'}, page_content='for 2 or more weeks.\\nTomatoes: Keep ripe whole tomatoes at room \\ntemperature in a single layer in an open container. Avoid \\ndirect sunlight. Try to use within 5 days. Short refrigerator \\nstorage (3 days) can help delay softening but may also \\nreduce flavor. \\nSalad Greens: Store in the refrigerator covered with a \\ndamp paper towel in an open container or in a plastic bag \\nwith holes to let air in. Use greens within 10 days.\\nBroccoli and Cauliflower: Store in the refrigerator in a'),\n",
       " Document(metadata={'source': 'data\\\\cookbook.pdf'}, page_content='grocery produce bag or poke a few small holes in a bag to \\nlet air in. For best quality, use within 1 week. Broccoli and \\ncauliflower can be frozen after blanching.*\\n31'),\n",
       " Document(metadata={'source': 'data\\\\cookbook.pdf'}, page_content='Keep It Safe\\n< Wash all fresh fruits, veggies and herbs \\nby scrubbing or rubbing gently under \\nrunning water.\\n< Do not mix batches of flavored water. \\nUse it up, clean the container, then make a\\nfresh batch.\\n< Keep water cold after fruits or veggies \\nare added. Make an amount you can use\\nwithin 2 days.\\nFlavored Ice\\nDon’t let oranges, grapefruit, \\nlemons and/or limes go to\\nwaste. Squeeze their juice into\\na bowl, mix with water and\\npour into ice trays to make \\nflavorful ice. \\nFlavor Options'),\n",
       " Document(metadata={'source': 'data\\\\cookbook.pdf'}, page_content='Flavor Options\\nTry these flavors or make up your own! \\nFor 1 quart (4 cups) of water:\\nCucumber ½cucumber Cut into thin slices; leave the skin  \\non for color.\\nCitrus lemon, lime, orange Leave the skin on; slice thinly in \\nor grapefruit - ½small whole circles or quarter wedges.\\nfruit or ¼grapefruit \\nHerbs mint, basil or rosemary  10 small leaves or a small \\nsprig. Tear or crush the leaves.\\nApple Cinnamon ½cinnamon stick and Leave the apple skin on for color;\\n½apple core can be left or removed.'),\n",
       " Document(metadata={'source': 'data\\\\cookbook.pdf'}, page_content='Slice into thin slices or circles.\\nStrawberry and 3 to 4 strawberries Peel the kiwi; slice both fruits  \\nKiwi and ½kiwi into thin slices.\\n1. Slice, tear, or mash the fruit to release the most flavor.\\n2. Refrigerate for several hours or overnight to allow the most flavoring.\\n3. Use within 2 days for best quality.\\nFlavored Water Basics'),\n",
       " Document(metadata={'source': 'data\\\\cookbook.pdf'}, page_content='Kitchen Measuring Guide\\nUse the fewest number of measurements possible for best accuracy.\\n3 teaspoons          =         1 Tablespoon  \\n=    \\n4 Tablespoons          =         1/4 cup  \\nor\\n=    \\n5 Tablespoons  +       =          1/3  cup     1 teaspoon\\n=     \\n16 Tablespoons   = \\n1 cup    =     \\n8 fluid ounces    =  \\n1/2 pint\\n16 ounces     =     \\n  \\n1 pound  \\n(weight)\\nor\\n2 cups    =   \\n1 pint \\n2 pints    =          \\n1 quart\\nUse a liquid measuring cup \\nto measure liquids. Set the'),\n",
       " Document(metadata={'source': 'data\\\\cookbook.pdf'}, page_content='cup on a flat surface. Fill to \\nthe measurement needed  \\nby looking at the cup from \\neye level.\\nUse a dry measuring cup \\nfor dry ingredients. Use \\nthe size of cup that holdas \\nexactly the amount you \\nneed. Fill it to just above the \\nrim and level it off with the \\nstraight edge of a knife.\\nUse measuring spoons for small \\namounts of liquids or dry ingredients.  \\nFill level with the top of the spoon.'),\n",
       " Document(metadata={'source': 'data\\\\cookbook.pdf'}, page_content='This material is funded in part by USDA’s Specialty Crop Block Grant Program and USDA’s Supplemental Nutrition Assistance Program (SNAP). SNAP \\nprovides nutrition assistance to people with low income. SNAP can help you buy nutritious foods for a better diet. T o find out more, contact Oregon SafeNet \\nat 211. USDA is an equal opportunity provider and employer. ©2019 Oregon State University Extension Service offers educational programs, activities, and'),\n",
       " Document(metadata={'source': 'data\\\\cookbook.pdf'}, page_content='materials without discrimination based on age, color, disability, gender identity or expression, genetic information, marital status, national origin, race, \\nreligion, sex, sexual orientation or veterans status. This institution is an equal opportunity provider.\\n33'),\n",
       " Document(metadata={'source': 'data\\\\cookbook.pdf'}, page_content='Blueberry Bling\\n Favorite Pancakes\\n Popeye Power Smoothie\\nBe a Food Hero!\\nA Food Hero leads by example, preparing meals that include a variety of fruits \\nand vegetables and other healthy ingredients. This book is a great tool for Food \\nHeroes! It includes:\\n• 37 tasty, flexible and healthy low-cost recipes tested with adults and kids.\\n•  guides for measuring and storing ingredients.\\n•  guides for measuring and storing ingredients and cooking tools.\\n•  flavored water basics and snack ideas.'),\n",
       " Document(metadata={'source': 'data\\\\cookbook.pdf'}, page_content='FOOD HERO\\n FOOD HERO')]"
      ]
     },
     "execution_count": 65,
     "metadata": {},
     "output_type": "execute_result"
    }
   ],
   "source": [
    "\n",
    "minimal_docs = extracted_require_data(extracted_data)\n",
    "text_chunk = text_split(minimal_docs)\n",
    "\n",
    "text_chunk"
   ]
  },
  {
   "cell_type": "code",
   "execution_count": null,
   "id": "719c0271",
   "metadata": {},
   "outputs": [],
   "source": [
    "from dotenv import load_dotenv\n",
    "load_dotenv()"
   ]
  },
  {
   "cell_type": "code",
   "execution_count": null,
   "id": "2256bdcf",
   "metadata": {},
   "outputs": [],
   "source": [
    "PINECONE_API_KEY=os.environ.get('PINECONE_API_KEY')\n",
    "OPENAI_API_KEY =os.environ.get('OPENAI_API_KEY ')\n"
   ]
  },
  {
   "cell_type": "code",
   "execution_count": 57,
   "id": "1992a748",
   "metadata": {},
   "outputs": [],
   "source": [
    "#initialize the pinecone\n",
    "from pinecone import Pinecone\n",
    "pinecone_api_key = PINECONE_API_KEY\n",
    "\n",
    "pc = Pinecone(api_key = pinecone_api_key)\n",
    "\n"
   ]
  },
  {
   "cell_type": "code",
   "execution_count": 59,
   "id": "d292c7da",
   "metadata": {},
   "outputs": [],
   "source": [
    "#create index in pinecone\n",
    "from pinecone import ServerlessSpec\n",
    "index_name =\"food-recipes\"\n",
    "\n",
    "if not pc.has_index(index_name):\n",
    "    pc.create_index (\n",
    "        name = index_name,\n",
    "        dimension = 384,\n",
    "        metric = \"cosine\",\n",
    "        spec = ServerlessSpec(cloud=\"aws\", region=\"us-east-1\")\n",
    "      )\n",
    "index = pc.Index(index_name)"
   ]
  },
  {
   "cell_type": "code",
   "execution_count": 66,
   "id": "f96bd540",
   "metadata": {},
   "outputs": [],
   "source": [
    "#store each value inside pinecone\n",
    "from langchain_pinecone import PineconeVectorStore\n",
    "docsearch = PineconeVectorStore.from_documents(\n",
    "    documents = text_chunk,\n",
    "    index_name = index_name,\n",
    "    embedding=embeddings\n",
    ")"
   ]
  },
  {
   "cell_type": "code",
   "execution_count": 67,
   "id": "8bdcb003",
   "metadata": {},
   "outputs": [],
   "source": [
    "#Load existing Index\n",
    "from langchain_pinecone import PineconeVectorStore\n",
    "docsearch = PineconeVectorStore.from_existing_index(\n",
    "    index_name = index_name,\n",
    "    embedding=embeddings\n",
    ")"
   ]
  },
  {
   "cell_type": "code",
   "execution_count": 69,
   "id": "4cc86679",
   "metadata": {},
   "outputs": [],
   "source": [
    "retriever = docsearch.as_retriever(search_type = \"similarity\", search_kwargs={\"k\":3})"
   ]
  },
  {
   "cell_type": "code",
   "execution_count": 72,
   "id": "71b2988e",
   "metadata": {},
   "outputs": [
    {
     "data": {
      "text/plain": [
       "[Document(id='4723d4ac-54c5-4b65-b700-4b3294c41286', metadata={'source': 'data\\\\cookbook.pdf'}, page_content='• view or share recipes in this book, see \\nrecipe user comments and find more \\nrecipes.\\n• sign-up to receive the award-winning \\nFood Hero Monthly by email—each month \\na different food ingredient is featured.\\n• connect with Food Hero on social media.\\nWe would love to hear from you!\\nEmail us at food.hero.@oregonstate.edu.\\nDownload this book  with extra content \\nat: https:/ /foodhero.org/cookbook.\\nFruit Storage and Cooking Tools .................... 3–4'),\n",
       " Document(id='0f4c6664-7ee4-4b02-9e6c-03b9cfbd004a', metadata={'source': 'data\\\\cookbook.pdf'}, page_content='Table of Contents\\nAll About the Recipes\\nThe recipes used in this book are some \\nof Food Hero’s most popular and require \\na limited set of common ingredients and \\nbasic cooking tools. Each recipe provides \\nideas to make it your own.\\nRefrigerate or freeze leftovers within  \\n1 to 2 hours.\\nNutrition Facts Labels provided are \\nestimates based on federal food data and \\ndo not include any “optional” foods listed in \\nthe ingredients lists. Your recipe may vary.\\nVisit www.foodhero.org to:'),\n",
       " Document(id='2a7873d5-4020-4515-94ce-6ca2c60bcca1', metadata={'source': 'data\\\\cookbook.pdf'}, page_content='Ingredients\\n2 teaspoons oil\\n1 cup chopped onion (about 1 medium onion)\\n2 cloves of garlic, minced, or ½ teaspoon garlic powder\\n1 teaspoon ground cumin\\n1½ cups cooked navy beans or any type of beans (or a \\n15-ounce can, drained and rinsed; try any type)\\n3½ cups diced tomatoes (fresh or a 28-ounce can diced \\nwith juice)\\n4 cups chicken broth (any type)\\n1 cup tomato sauce (an 8-ounce can)\\n1 cup (two 4-ounce cans) chopped mild green chiles\\n2 teaspoons dried oregano\\n2 cups chopped cooked chicken')]"
      ]
     },
     "execution_count": 72,
     "metadata": {},
     "output_type": "execute_result"
    }
   ],
   "source": [
    "retriever_docs = retriever.invoke(\"Give me some food Recipes\")\n",
    "retriever_docs"
   ]
  },
  {
   "cell_type": "code",
   "execution_count": 73,
   "id": "201b908f",
   "metadata": {},
   "outputs": [],
   "source": [
    "from langchain_openai import ChatOpenAI\n",
    "chatModel = ChatOpenAI(model=\"gpt-4o\")"
   ]
  },
  {
   "cell_type": "code",
   "execution_count": 74,
   "id": "acbaab97",
   "metadata": {},
   "outputs": [],
   "source": [
    "from langchain.chains import create_retrieval_chain\n",
    "from langchain.chains.combine_documents import create_stuff_documents_chain\n",
    "from langchain_core.prompts import ChatPromptTemplate"
   ]
  },
  {
   "cell_type": "code",
   "execution_count": 75,
   "id": "655562ef",
   "metadata": {},
   "outputs": [],
   "source": [
    "system_prompt = (\n",
    "    \"You are an assistant for question-answering tasks for Food Recipes. \"\n",
    "    \"Use the following pieces of retrieved context to answer \"\n",
    "    \"the question. If you don't know the answer, say that you \"\n",
    "    \"don't know. Use three sentences maximum and keep the \"\n",
    "    \"answer concise.\"\n",
    "    \"\\n\\n\"\n",
    "    \"{context}\"\n",
    ")\n",
    "\n",
    "\n",
    "prompt = ChatPromptTemplate.from_messages(\n",
    "    [\n",
    "        (\"system\", system_prompt),\n",
    "        (\"human\", \"{input}\"),\n",
    "    ]\n",
    ")"
   ]
  },
  {
   "cell_type": "code",
   "execution_count": 77,
   "id": "e307be70",
   "metadata": {},
   "outputs": [],
   "source": [
    "question_answer_chain = create_stuff_documents_chain(chatModel, prompt)\n",
    "rag_chain = create_retrieval_chain(retriever,question_answer_chain)"
   ]
  },
  {
   "cell_type": "code",
   "execution_count": 83,
   "id": "a2f1c853",
   "metadata": {},
   "outputs": [
    {
     "name": "stdout",
     "output_type": "stream",
     "text": [
      "The provided text includes a table of contents with distinct sections for various recipes and guides, including \"Baked Cauliflower Tots,\" \"Roasted Vegetables,\" \"Stovetop Rice,\" \"Vegetable Storage and Flavored Water,\" and a \"Kitchen Measuring Guide.\" There are five items listed in the table of contents from pages 29 to 33.\n"
     ]
    }
   ],
   "source": [
    "response = rag_chain.invoke({\"input\":\"how many Table of contents you have\"})\n",
    "print(response[\"answer\"])"
   ]
  }
 ],
 "metadata": {
  "kernelspec": {
   "display_name": "Python 3",
   "language": "python",
   "name": "python3"
  },
  "language_info": {
   "codemirror_mode": {
    "name": "ipython",
    "version": 3
   },
   "file_extension": ".py",
   "mimetype": "text/x-python",
   "name": "python",
   "nbconvert_exporter": "python",
   "pygments_lexer": "ipython3",
   "version": "3.12.8"
  }
 },
 "nbformat": 4,
 "nbformat_minor": 5
}
